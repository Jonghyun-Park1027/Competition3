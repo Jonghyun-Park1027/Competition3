{
 "cells": [
  {
   "cell_type": "markdown",
   "source": [
    "# Data 개별 처리"
   ],
   "metadata": {
    "collapsed": false
   }
  },
  {
   "cell_type": "code",
   "execution_count": 11,
   "outputs": [],
   "source": [
    "import os\n",
    "import random\n",
    "import pandas as pd\n",
    "import numpy as np\n",
    "from sklearn.preprocessing import StandardScaler, MinMaxScaler, LabelEncoder\n",
    "from sklearn.model_selection import train_test_split\n",
    "from sklearn.linear_model import LinearRegression\n",
    "from sklearn.neighbors import KNeighborsRegressor\n",
    "from sklearn.cluster import KMeans\n",
    "from sklearn.tree import DecisionTreeRegressor\n",
    "from sklearn.ensemble import RandomForestRegressor, GradientBoostingRegressor\n",
    "from xgboost import XGBRegressor\n",
    "from sklearn.metrics import mean_absolute_error as MAE\n",
    "from sklearn.metrics import mean_squared_error as MSE\n",
    "from sklearn.metrics import mean_squared_log_error as MSLE\n",
    "from tqdm.auto import tqdm\n",
    "from prophet.plot import add_changepoints_to_plot, plot_seasonality\n",
    "from prophet import Prophet\n",
    "import koreanize_matplotlib\n",
    "from sklearn.utils import shuffle"
   ],
   "metadata": {
    "collapsed": false,
    "ExecuteTime": {
     "end_time": "2023-08-21T12:11:14.662394400Z",
     "start_time": "2023-08-21T12:11:14.658297Z"
    }
   }
  },
  {
   "cell_type": "code",
   "execution_count": 2,
   "outputs": [],
   "source": [
    "\n",
    "def seed_everything(seed):\n",
    "    random.seed(seed)\n",
    "    os.environ['PYTHONHASHSEED'] = str(seed)\n",
    "    np.random.seed(seed)\n",
    "\n",
    "\n",
    "seed_everything(0)  # Seed 고정\n",
    "building_df = pd.read_csv('building_info.csv')\n",
    "train_df = pd.read_csv('train.csv')\n",
    "test_df = pd.read_csv('test.csv')\n"
   ],
   "metadata": {
    "collapsed": false,
    "ExecuteTime": {
     "end_time": "2023-08-21T12:03:05.616210800Z",
     "start_time": "2023-08-21T12:03:05.450753800Z"
    }
   }
  },
  {
   "cell_type": "code",
   "execution_count": 3,
   "outputs": [],
   "source": [
    "building_df['태양광용량(kW)'] = building_df['태양광용량(kW)'].replace('-', 0).astype(float)\n",
    "building_df['ESS저장용량(kWh)'] = building_df['ESS저장용량(kWh)'].replace('-', 0).astype(float)\n",
    "building_df['PCS용량(kW)'] = building_df['PCS용량(kW)'].replace('-', 0).astype(float)"
   ],
   "metadata": {
    "collapsed": false,
    "ExecuteTime": {
     "end_time": "2023-08-21T12:03:05.621447200Z",
     "start_time": "2023-08-21T12:03:05.617215200Z"
    }
   }
  },
  {
   "cell_type": "code",
   "execution_count": 4,
   "outputs": [],
   "source": [
    "train_df = train_df.merge(building_df, on=\"건물번호\", how=\"left\")\n",
    "test_df = test_df.merge(building_df, on=\"건물번호\", how=\"left\")\n",
    "train_df = train_df.drop(columns = [\"일조(hr)\" , \"일사(MJ/m2)\"], axis=1)\n",
    "# test_df = test_df.drop(columns = [\"일조(hr)\" , \"일사(MJ/m2)\"], axis=1)"
   ],
   "metadata": {
    "collapsed": false,
    "ExecuteTime": {
     "end_time": "2023-08-21T12:03:05.666800600Z",
     "start_time": "2023-08-21T12:03:05.622448900Z"
    }
   }
  },
  {
   "cell_type": "code",
   "execution_count": 5,
   "outputs": [
    {
     "name": "stderr",
     "output_type": "stream",
     "text": [
      "C:\\Users\\ppjjh\\AppData\\Local\\Temp\\ipykernel_9304\\3109699858.py:80: FutureWarning: In a future version of pandas all arguments of DataFrame.pivot will be keyword-only.\n",
      "  by_weekday = train_df.groupby(['b_num','weekday'])['power'].median().reset_index().pivot('b_num','weekday','power').reset_index()\n",
      "C:\\Users\\ppjjh\\AppData\\Local\\Temp\\ipykernel_9304\\3109699858.py:81: FutureWarning: In a future version of pandas all arguments of DataFrame.pivot will be keyword-only.\n",
      "  by_hour = train_df.groupby(['b_num','hour'])['power'].median().reset_index().pivot('b_num','hour','power').reset_index().drop('b_num', axis = 1)\n",
      "C:\\Users\\ppjjh\\anaconda3\\envs\\torch2\\Lib\\site-packages\\sklearn\\cluster\\_kmeans.py:1412: FutureWarning: The default value of `n_init` will change from 10 to 'auto' in 1.4. Set the value of `n_init` explicitly to suppress the warning\n",
      "  super()._check_params_vs_input(X, default_n_init=10)\n",
      "C:\\Users\\ppjjh\\anaconda3\\envs\\torch2\\Lib\\site-packages\\sklearn\\cluster\\_kmeans.py:1436: UserWarning: KMeans is known to have a memory leak on Windows with MKL, when there are less chunks than available threads. You can avoid it by setting the environment variable OMP_NUM_THREADS=1.\n",
      "  warnings.warn(\n"
     ]
    },
    {
     "data": {
      "text/plain": "   num_date_time  b_num                  ds  temp  precip  w_s  hum  b_type  \\\n0  1_20220825 00      1 2022-08-25 00:00:00  23.5     0.0  2.2   72       0   \n1  1_20220825 01      1 2022-08-25 01:00:00  23.0     0.0  0.9   72       0   \n2  1_20220825 02      1 2022-08-25 02:00:00  22.7     0.0  1.5   75       0   \n3  1_20220825 03      1 2022-08-25 03:00:00  22.1     0.0  1.3   78       0   \n4  1_20220825 04      1 2022-08-25 04:00:00  21.8     0.0  1.0   77       0   \n\n   f_area  c_area  ...  sin_time  cos_time       THI   CDH  km_cluster  km_0  \\\n0      59      35  ...  0.000000  1.000000  71.78980  -2.5           0     1   \n1      59      35  ...  0.258819  0.965926  71.02840  -5.5           0     1   \n2      59      35  ...  0.500000  0.866025  70.81675  -8.8           0     1   \n3      59      35  ...  0.707107  0.707107  70.11262 -12.7           0     1   \n4      59      35  ...  0.866025  0.500000  69.56514 -16.9           0     1   \n\n   km_1  km_2  km_3  km_4  \n0     0     0     0     0  \n1     0     0     0     0  \n2     0     0     0     0  \n3     0     0     0     0  \n4     0     0     0     0  \n\n[5 rows x 29 columns]",
      "text/html": "<div>\n<style scoped>\n    .dataframe tbody tr th:only-of-type {\n        vertical-align: middle;\n    }\n\n    .dataframe tbody tr th {\n        vertical-align: top;\n    }\n\n    .dataframe thead th {\n        text-align: right;\n    }\n</style>\n<table border=\"1\" class=\"dataframe\">\n  <thead>\n    <tr style=\"text-align: right;\">\n      <th></th>\n      <th>num_date_time</th>\n      <th>b_num</th>\n      <th>ds</th>\n      <th>temp</th>\n      <th>precip</th>\n      <th>w_s</th>\n      <th>hum</th>\n      <th>b_type</th>\n      <th>f_area</th>\n      <th>c_area</th>\n      <th>...</th>\n      <th>sin_time</th>\n      <th>cos_time</th>\n      <th>THI</th>\n      <th>CDH</th>\n      <th>km_cluster</th>\n      <th>km_0</th>\n      <th>km_1</th>\n      <th>km_2</th>\n      <th>km_3</th>\n      <th>km_4</th>\n    </tr>\n  </thead>\n  <tbody>\n    <tr>\n      <th>0</th>\n      <td>1_20220825 00</td>\n      <td>1</td>\n      <td>2022-08-25 00:00:00</td>\n      <td>23.5</td>\n      <td>0.0</td>\n      <td>2.2</td>\n      <td>72</td>\n      <td>0</td>\n      <td>59</td>\n      <td>35</td>\n      <td>...</td>\n      <td>0.000000</td>\n      <td>1.000000</td>\n      <td>71.78980</td>\n      <td>-2.5</td>\n      <td>0</td>\n      <td>1</td>\n      <td>0</td>\n      <td>0</td>\n      <td>0</td>\n      <td>0</td>\n    </tr>\n    <tr>\n      <th>1</th>\n      <td>1_20220825 01</td>\n      <td>1</td>\n      <td>2022-08-25 01:00:00</td>\n      <td>23.0</td>\n      <td>0.0</td>\n      <td>0.9</td>\n      <td>72</td>\n      <td>0</td>\n      <td>59</td>\n      <td>35</td>\n      <td>...</td>\n      <td>0.258819</td>\n      <td>0.965926</td>\n      <td>71.02840</td>\n      <td>-5.5</td>\n      <td>0</td>\n      <td>1</td>\n      <td>0</td>\n      <td>0</td>\n      <td>0</td>\n      <td>0</td>\n    </tr>\n    <tr>\n      <th>2</th>\n      <td>1_20220825 02</td>\n      <td>1</td>\n      <td>2022-08-25 02:00:00</td>\n      <td>22.7</td>\n      <td>0.0</td>\n      <td>1.5</td>\n      <td>75</td>\n      <td>0</td>\n      <td>59</td>\n      <td>35</td>\n      <td>...</td>\n      <td>0.500000</td>\n      <td>0.866025</td>\n      <td>70.81675</td>\n      <td>-8.8</td>\n      <td>0</td>\n      <td>1</td>\n      <td>0</td>\n      <td>0</td>\n      <td>0</td>\n      <td>0</td>\n    </tr>\n    <tr>\n      <th>3</th>\n      <td>1_20220825 03</td>\n      <td>1</td>\n      <td>2022-08-25 03:00:00</td>\n      <td>22.1</td>\n      <td>0.0</td>\n      <td>1.3</td>\n      <td>78</td>\n      <td>0</td>\n      <td>59</td>\n      <td>35</td>\n      <td>...</td>\n      <td>0.707107</td>\n      <td>0.707107</td>\n      <td>70.11262</td>\n      <td>-12.7</td>\n      <td>0</td>\n      <td>1</td>\n      <td>0</td>\n      <td>0</td>\n      <td>0</td>\n      <td>0</td>\n    </tr>\n    <tr>\n      <th>4</th>\n      <td>1_20220825 04</td>\n      <td>1</td>\n      <td>2022-08-25 04:00:00</td>\n      <td>21.8</td>\n      <td>0.0</td>\n      <td>1.0</td>\n      <td>77</td>\n      <td>0</td>\n      <td>59</td>\n      <td>35</td>\n      <td>...</td>\n      <td>0.866025</td>\n      <td>0.500000</td>\n      <td>69.56514</td>\n      <td>-16.9</td>\n      <td>0</td>\n      <td>1</td>\n      <td>0</td>\n      <td>0</td>\n      <td>0</td>\n      <td>0</td>\n    </tr>\n  </tbody>\n</table>\n<p>5 rows × 29 columns</p>\n</div>"
     },
     "execution_count": 5,
     "metadata": {},
     "output_type": "execute_result"
    }
   ],
   "source": [
    "train_df.rename(columns={\"num_date_time\" : \"num_date_time\", \"건물번호\":\"b_num\", \"일시\" : \"D&T\", \"기온(C)\" : \"temp\", \"강수량(mm)\" : \"precip\", \"풍속(m/s)\" : \"w_s\" , \"습도(%)\" : \"hum\", \"전력소비량(kWh)\":\"power\", \"건물유형\":\"b_type\", \"연면적(m2)\":\"f_area\", \"냉방면적(m2)\":\"c_area\", \"태양광용량(kW)\": \"SUN_light\", \"ESS저장용량(kWh)\": \"ESS_save\", \"PCS용량(kW)\":\"PCS\" }, inplace=True)\n",
    "test_df.rename(columns={\"num_date_time\" : \"num_date_time\", \"건물번호\":\"b_num\", \"일시\" : \"D&T\", \"기온(C)\" : \"temp\", \"강수량(mm)\" : \"precip\", \"풍속(m/s)\" : \"w_s\" , \"습도(%)\" : \"hum\", \"전력소비량(kWh)\":\"power\", \"건물유형\":\"b_type\", \"연면적(m2)\":\"f_area\", \"냉방면적(m2)\":\"c_area\", \"태양광용량(kW)\": \"SUN_light\", \"ESS저장용량(kWh)\": \"ESS_save\", \"PCS용량(kW)\":\"PCS\"} , inplace= True)\n",
    "\n",
    "# 선형보간 실시\n",
    "train_df[\"w_s\"] = train_df[\"w_s\"].interpolate()\n",
    "train_df[\"hum\"] = train_df[\"hum\"].interpolate()\n",
    "train_df.loc[train_df[\"w_s\"]<0] = 0\n",
    "train_df.loc[train_df[\"hum\"]<0] = 0\n",
    "# 소수점 단위 절삭\n",
    "train_df[\"c_area\"] = train_df[\"c_area\"].round(4)\n",
    "train_df[\"f_area\"] = train_df[\"f_area\"].round(4)\n",
    "test_df[\"c_area\"] = test_df[\"c_area\"].round(4)\n",
    "test_df[\"f_area\"] = test_df[\"f_area\"].round(4)\n",
    "\n",
    "lf = LabelEncoder()\n",
    "train_df[\"c_area\"] = lf.fit_transform(train_df[\"c_area\"])\n",
    "train_df[\"f_area\"] = lf.fit_transform(train_df[\"f_area\"])\n",
    "train_df[\"b_type\"] = lf.fit_transform(train_df[\"b_type\"])\n",
    "train_df = train_df.fillna(0)\n",
    "\n",
    "test_df[\"c_area\"] = lf.fit_transform(test_df[\"c_area\"])\n",
    "test_df[\"f_area\"] = lf.fit_transform(test_df[\"f_area\"])\n",
    "test_df[\"b_type\"] = lf.fit_transform(test_df[\"b_type\"])\n",
    "\n",
    "def CDH(xs):\n",
    "    ys = []\n",
    "    for i in range(len(xs)):\n",
    "        if i < 11:\n",
    "            ys.append(np.sum(xs[:(i+1)]-26))\n",
    "        else:\n",
    "            ys.append(np.sum(xs[(i-11):(i+1)]-26))\n",
    "    return np.array(ys)\n",
    "def is_weekend(ds):\n",
    "    date = pd.to_datetime(ds)\n",
    "    if date.weekday() >= 5:\n",
    "        return 1\n",
    "    else:\n",
    "        return 0\n",
    "def is_noon(ds):\n",
    "    date = pd.to_datetime(ds)\n",
    "    if date.hour >= 7 and date.hour<20:\n",
    "        return 1\n",
    "    else:\n",
    "        return 0\n",
    "# 파생변수 생성 (train data)\n",
    "train_df['D&T'] = pd.to_datetime(train_df['D&T'])\n",
    "# train_df['month'] = train_df['num_date_time'].apply(lambda x : int(x[4:6]))\n",
    "train_df['day'] = train_df['D&T'].dt.day\n",
    "train_df['month'] = train_df['D&T'].dt.month\n",
    "train_df['hour'] = train_df['D&T'].dt.hour\n",
    "train_df['weekend'] = train_df['D&T'].apply(is_weekend)\n",
    "train_df['noon'] = train_df['D&T'].apply(is_noon)\n",
    "train_df['weekday'] = train_df['D&T'].dt.weekday\n",
    "train_df['sin_time'] = np.sin(2*np.pi*train_df.hour/24)\n",
    "train_df['cos_time'] = np.cos(2*np.pi*train_df.hour/24)\n",
    "train_df['THI'] = 9/5*train_df['temp'] - 0.55*(1-train_df['hum']/100)*(9/5*train_df['temp']-26)+32\n",
    "\n",
    "# 파생변수 생성 (test data)\n",
    "test_df['D&T'] = pd.to_datetime(test_df['D&T'])\n",
    "# test_df['month'] = test_df['num_date_time'].apply(lambda x : int(x[4:6]))\n",
    "test_df['day'] = test_df['D&T'].dt.day\n",
    "test_df['month'] = test_df['D&T'].dt.month\n",
    "test_df['hour'] = test_df['D&T'].dt.hour\n",
    "test_df['weekend'] = test_df['D&T'].apply(is_weekend)\n",
    "test_df['noon'] = test_df['D&T'].apply(is_noon)\n",
    "test_df['weekday'] = test_df['D&T'].dt.weekday\n",
    "test_df['sin_time'] = np.sin(2*np.pi*test_df.hour/24)\n",
    "test_df['cos_time'] = np.cos(2*np.pi*test_df.hour/24)\n",
    "test_df['THI'] = 9/5*test_df['temp'] - 0.55*(1-test_df['hum']/100)*(9/5*test_df['temp']-26)+32\n",
    "# train cdh\n",
    "cdhs = np.array([])\n",
    "for num in range(1,101,1):\n",
    "    temp = train_df[train_df['b_num'] == num]\n",
    "    cdh = CDH(temp['temp'].values)\n",
    "    cdhs = np.concatenate([cdhs, cdh])\n",
    "\n",
    "train_df['CDH'] = cdhs\n",
    "# train_df.drop(\"D&T\", axis =1 , inplace=True)\n",
    "# K-Means > train data\n",
    "by_weekday = train_df.groupby(['b_num','weekday'])['power'].median().reset_index().pivot('b_num','weekday','power').reset_index()\n",
    "by_hour = train_df.groupby(['b_num','hour'])['power'].median().reset_index().pivot('b_num','hour','power').reset_index().drop('b_num', axis = 1)\n",
    "# test cdh\n",
    "cdhs = np.array([])\n",
    "for num in range(1,101,1):\n",
    "    temp = test_df[test_df['b_num'] == num]\n",
    "    cdh = CDH(temp['temp'].values)\n",
    "    cdhs = np.concatenate([cdhs, cdh])\n",
    "\n",
    "test_df['CDH'] = cdhs\n",
    "# train_df.drop(\"D&T\", axis =1 , inplace=True)\n",
    "# K-Means > train data\n",
    "# by_weekday = train_df.groupby(['b_num','weekday'])['power'].median().reset_index().pivot('b_num','weekday','power').reset_index()\n",
    "# by_hour = train_df.groupby(['b_num','hour'])['power'].median().reset_index().pivot('b_num','hour','power').reset_index().drop('b_num', axis = 1)\n",
    "\n",
    "df = pd.concat([by_weekday, by_hour], axis= 1)\n",
    "columns = ['b_num'] + ['weekday'+str(i) for i in range(7)] + ['hour'+str(i) for i in range(24)]\n",
    "df.columns = columns\n",
    "kmeans = KMeans(n_clusters=5, random_state = 42)\n",
    "km_cluster = kmeans.fit_predict(df.iloc[:,1:])\n",
    "\n",
    "df_clust = df.copy()\n",
    "df_clust['km_cluster'] = km_cluster\n",
    "# df_clust['km_cluster'] = df_clust['km_cluster'].map({})\n",
    "# train cluster\n",
    "train_df = train_df.merge(df_clust[['b_num','km_cluster']], on='b_num', how='left')\n",
    "km_d = pd.get_dummies(train_df['km_cluster'], prefix='km', drop_first=False)\n",
    "\n",
    "train_df = pd.concat([train_df, km_d], axis=1)\n",
    "\n",
    "# test cluster\n",
    "test_df = test_df.merge(df_clust[['b_num','km_cluster']], on='b_num', how='left')\n",
    "km_d = pd.get_dummies(test_df['km_cluster'], prefix='km', drop_first=False)\n",
    "\n",
    "test_df = pd.concat([test_df, km_d], axis=1)\n",
    "# prophet 형태로 전환\n",
    "train_df.rename(columns={\"D&T\": \"ds\", \"power\": \"y\"}, inplace=True)\n",
    "test_df.rename(columns={\"D&T\": \"ds\", \"power\": \"y\"}, inplace=True)\n",
    "\n",
    "test_df.head()"
   ],
   "metadata": {
    "collapsed": false,
    "ExecuteTime": {
     "end_time": "2023-08-21T12:03:08.068003600Z",
     "start_time": "2023-08-21T12:03:05.676801500Z"
    }
   }
  },
  {
   "cell_type": "code",
   "execution_count": 6,
   "outputs": [],
   "source": [
    "def get_score_splited_train(model, xtrain, xtest, ytrain, ytest):\n",
    "    A = model.score(xtrain, ytrain)\n",
    "    B = model.score(xtest,ytest)\n",
    "    pred = model.predict(xtest)\n",
    "    C = SMAPE(ytest, pred)\n",
    "\n",
    "    print(f\"ACC train : {A:.4f}, test : {B:.4f}, SMAPE : {C:.4f}\" )\n",
    "def SMAPE(true, pred):\n",
    "    return np.mean((np.abs(true-pred))/(np.abs(true) + np.abs(pred))) * 100"
   ],
   "metadata": {
    "collapsed": false,
    "ExecuteTime": {
     "end_time": "2023-08-21T12:03:16.081980400Z",
     "start_time": "2023-08-21T12:03:16.074035500Z"
    }
   }
  },
  {
   "cell_type": "markdown",
   "source": [
    "## Models"
   ],
   "metadata": {
    "collapsed": false
   }
  },
  {
   "cell_type": "code",
   "execution_count": 229,
   "outputs": [],
   "source": [
    "def linear_1(x_train, y_train, x_test, y_test = None):\n",
    "\n",
    "    model1 = LinearRegression().fit(x_train, y_train)\n",
    "    y_pred = model1.predict(x_test)   #  y_pred -> 1D ndarray\n",
    "    y_pred = np.where(y_pred<0, -y_pred, y_pred)\n",
    "    if y_test == None:\n",
    "        return y_pred\n",
    "    # ValueError: Mean Squared Logarithmic Error cannot be used when targets contain negative values.\n",
    "    #RMSLE = lambda y_true, y_pred : MSLE(y_true, y_pred) ** 0.5\n",
    "    A,B,C = model1.score(x_train, y_train), model1.score(x_test, y_test), SMAPE(y_test, y_pred)\n",
    "    print(f'train_score : {A:.4f}, test_score : {B:.4f}, SMAPE : {C:.4f}')\n",
    "    return y_pred, C"
   ],
   "metadata": {
    "collapsed": false,
    "ExecuteTime": {
     "end_time": "2023-08-21T09:02:56.991129400Z",
     "start_time": "2023-08-21T09:02:56.977947300Z"
    }
   }
  },
  {
   "cell_type": "code",
   "execution_count": 230,
   "outputs": [],
   "source": [
    "def decision_1(x_train, y_train, x_test, y_test = None):\n",
    "    model2 = DecisionTreeRegressor().fit(x_train, y_train)\n",
    "    y_pred = model2.predict(x_test)   #  y_pred -> 1D ndarray\n",
    "    y_pred = np.where(y_pred<0, -y_pred, y_pred)\n",
    "    if y_test == None:\n",
    "        return y_pred\n",
    "    # ValueError: Mean Squared Logarithmic Error cannot be used when targets contain negative values.\n",
    "    #RMSLE = lambda y_true, y_pred : MSLE(y_true, y_pred) ** 0.5\n",
    "    A,B,C = model2.score(x_train, y_train), model2.score(x_test, y_test), SMAPE(y_test, y_pred)\n",
    "    print(f'train_score : {A:.4f}, test_score : {B:.4f}, SMAPE : {C:.4f}')\n",
    "    return y_pred, C"
   ],
   "metadata": {
    "collapsed": false,
    "ExecuteTime": {
     "end_time": "2023-08-21T09:02:57.178087500Z",
     "start_time": "2023-08-21T09:02:57.153916200Z"
    }
   }
  },
  {
   "cell_type": "code",
   "execution_count": 7,
   "outputs": [],
   "source": [
    "def RandomF_1(x_train, y_train, x_test, y_test= None):\n",
    "    model3 = RandomForestRegressor(random_state=0).fit(x_train, y_train)\n",
    "    y_pred = model3.predict(x_test)   #  y_pred -> 1D ndarray\n",
    "    y_pred = np.where(y_pred<0, -y_pred, y_pred)\n",
    "    if y_test == None:\n",
    "        return y_pred\n",
    "    # ValueError: Mean Squared Logarithmic Error cannot be used when targets contain negative values.\n",
    "    #RMSLE = lambda y_true, y_pred : MSLE(y_true, y_pred) ** 0.5\n",
    "    A,B,C = model3.score(x_train, y_train), model3.score(x_test, y_test), SMAPE(y_test, y_pred)\n",
    "    print(f'train_score : {A:.4f}, test_score : {B:.4f}, SMAPE : {C:.4f}')\n",
    "    return y_pred, C"
   ],
   "metadata": {
    "collapsed": false,
    "ExecuteTime": {
     "end_time": "2023-08-21T12:03:33.527336Z",
     "start_time": "2023-08-21T12:03:33.519713700Z"
    }
   }
  },
  {
   "cell_type": "code",
   "execution_count": 173,
   "outputs": [],
   "source": [
    "# XGB"
   ],
   "metadata": {
    "collapsed": false,
    "ExecuteTime": {
     "end_time": "2023-08-21T07:41:35.638082200Z",
     "start_time": "2023-08-21T07:41:35.625205300Z"
    }
   }
  },
  {
   "cell_type": "code",
   "execution_count": 183,
   "outputs": [],
   "source": [
    "# CAT\n"
   ],
   "metadata": {
    "collapsed": false,
    "ExecuteTime": {
     "end_time": "2023-08-21T08:02:11.392421100Z",
     "start_time": "2023-08-21T08:02:11.387409400Z"
    }
   }
  },
  {
   "cell_type": "code",
   "execution_count": null,
   "outputs": [],
   "source": [],
   "metadata": {
    "collapsed": false
   }
  },
  {
   "cell_type": "code",
   "execution_count": null,
   "outputs": [],
   "source": [],
   "metadata": {
    "collapsed": false
   }
  },
  {
   "cell_type": "code",
   "execution_count": null,
   "outputs": [],
   "source": [],
   "metadata": {
    "collapsed": false
   }
  },
  {
   "cell_type": "code",
   "execution_count": 238,
   "outputs": [
    {
     "data": {
      "text/plain": "  0%|          | 0/100 [00:00<?, ?it/s]",
      "application/vnd.jupyter.widget-view+json": {
       "version_major": 2,
       "version_minor": 0,
       "model_id": "30efc2b766544e36925e199cb27b3e93"
      }
     },
     "metadata": {},
     "output_type": "display_data"
    }
   ],
   "source": [
    "test_submission = pd.DataFrame(columns=['num_date_time', 'answer'])\n",
    "# 나머지 0처리\n",
    "\n",
    "# holidays = pd.DataFrame(columns=['holiday', 'ds'])\n",
    "# holidays[\"lower_window\"] = 1\n",
    "# holidays[\"upper_window\"] = 1\n",
    "smape_list = []\n",
    "answer_list = []\n",
    "num_list = []\n",
    "for i in tqdm(range(1,101)):\n",
    "    # 한건물당 168개씩 예측한다\n",
    "    train = train_df.loc[(train_df[\"b_num\"] == i), ]\n",
    "    test = test_df.loc[(test_df[\"b_num\"] == i), ].reset_index(drop=True)\n",
    "\n",
    "    x_train = train.drop(columns= [\"num_date_time\", \"y\", \"ds\"])\n",
    "    y_train = train[\"y\"]\n",
    "    x_test = test.drop(columns= [\"num_date_time\", \"ds\"])\n",
    "\n",
    "    answer = RandomF_1(x_train,y_train, x_test)\n",
    "\n",
    "    answer_list.extend(answer)\n",
    "\n",
    "    num_list.extend(test[\"num_date_time\"])\n"
   ],
   "metadata": {
    "collapsed": false,
    "ExecuteTime": {
     "end_time": "2023-08-21T09:06:47.860919Z",
     "start_time": "2023-08-21T09:05:09.113613Z"
    }
   }
  },
  {
   "cell_type": "code",
   "execution_count": 243,
   "outputs": [],
   "source": [
    "test_submission[\"num_date_time\"] = num_list\n",
    "test_submission[\"answer\"] = answer_list\n",
    "test_submission.to_csv(\"results/2023-08-21.csv\", index = False)"
   ],
   "metadata": {
    "collapsed": false,
    "ExecuteTime": {
     "end_time": "2023-08-21T09:11:46.008685900Z",
     "start_time": "2023-08-21T09:11:45.983298500Z"
    }
   }
  },
  {
   "cell_type": "code",
   "execution_count": 190,
   "outputs": [
    {
     "name": "stdout",
     "output_type": "stream",
     "text": [
      "The Last SMAPE score is 3.4293720314802414\n"
     ]
    }
   ],
   "source": [
    "\n"
   ],
   "metadata": {
    "collapsed": false,
    "ExecuteTime": {
     "end_time": "2023-08-21T08:09:04.356450100Z",
     "start_time": "2023-08-21T08:09:04.346572100Z"
    }
   }
  },
  {
   "cell_type": "code",
   "execution_count": 192,
   "outputs": [
    {
     "name": "stdout",
     "output_type": "stream",
     "text": [
      "The Best SMAPE score is 3.4293720314802414(Banyla RandomForest)\n"
     ]
    }
   ],
   "source": [
    "# Banyla RandomForest\n",
    "print(f\"The Best SMAPE score is {sum(smape_list)/100}(Banyla RandomForest)\")"
   ],
   "metadata": {
    "collapsed": false,
    "ExecuteTime": {
     "end_time": "2023-08-21T08:09:57.521649800Z",
     "start_time": "2023-08-21T08:09:57.501350400Z"
    }
   }
  },
  {
   "cell_type": "markdown",
   "source": [
    "# 데이터 결합 처리"
   ],
   "metadata": {
    "collapsed": false
   }
  },
  {
   "cell_type": "code",
   "execution_count": 244,
   "outputs": [
    {
     "name": "stdout",
     "output_type": "stream",
     "text": [
      "ACC train : 0.9994, test : 0.9952, SMAPE : 2.1349\n",
      "            importance\n",
      "km_3          0.381904\n",
      "km_1          0.311694\n",
      "km_2          0.094021\n",
      "noon          0.037312\n",
      "f_area        0.021006\n",
      "c_area        0.020534\n",
      "b_num         0.015508\n",
      "hour          0.011470\n",
      "cos_time      0.011281\n",
      "THI           0.010786\n",
      "weekday       0.010352\n",
      "km_4          0.010183\n",
      "km_cluster    0.010011\n",
      "SUN_light     0.009251\n",
      "sin_time      0.007713\n",
      "km_0          0.007657\n",
      "b_type        0.007398\n",
      "weekend       0.007264\n",
      "CDH           0.004740\n",
      "day           0.002687\n",
      "month         0.001745\n",
      "temp          0.001527\n",
      "w_s           0.001380\n",
      "hum           0.001221\n",
      "PCS           0.000644\n",
      "ESS_save      0.000567\n",
      "precip        0.000143\n"
     ]
    }
   ],
   "source": [
    "# # Feature Importance 추출\n",
    "# train_x = train_df.drop(columns=[\"y\",\"ds\",\"num_date_time\"])\n",
    "# train_y = train_df['y']\n",
    "# xtrain, xtest, ytrain, ytest = train_test_split(train_x, train_y)\n",
    "# best_rf = RandomForestRegressor(random_state=42, bootstrap=True, max_depth=None, min_samples_leaf=1,\n",
    "#                                 min_samples_split=2, n_estimators=200)\n",
    "# best_rf.fit(xtrain, ytrain)\n",
    "# get_score_splited_train(best_rf, xtrain, xtest, ytrain, ytest)\n",
    "# prediction = best_rf.predict(xtest)\n",
    "# SMAPE(ytest, prediction)\n",
    "# feature_importances = pd.DataFrame(best_rf.feature_importances_,\n",
    "#\n",
    "#                                    index=xtrain.columns,\n",
    "#                                    columns=['importance']).sort_values('importance', ascending=False)\n",
    "# print(feature_importances)"
   ],
   "metadata": {
    "collapsed": false,
    "ExecuteTime": {
     "end_time": "2023-08-21T09:20:27.913177700Z",
     "start_time": "2023-08-21T09:16:25.727337700Z"
    }
   }
  },
  {
   "cell_type": "code",
   "execution_count": 14,
   "outputs": [],
   "source": [
    "test_submission = pd.DataFrame(columns=['num_date_time', 'answer'])\n",
    "xtrain = train_df[[\n",
    "#                                   'num_date_time'\n",
    "#                                  ,\"y\"\n",
    "#                                  ,\"ds\",\n",
    "                                 'b_num'\n",
    "                                 # ,'temp'\n",
    "                                 # ,'precip'\n",
    "                                 # ,'w_s'\n",
    "                                 # ,'hum'\n",
    "                                 ,'b_type'\n",
    "                                 ,'f_area'\n",
    "                                 ,'c_area'\n",
    "                                 ,'SUN_light'\n",
    "                                 # ,'ESS_save'\n",
    "                                 # ,'PCS'\n",
    "                                 ,'day'\n",
    "                                 ,'month'\n",
    "                                , 'hour'\n",
    "                                , 'weekend'\n",
    "                                , 'noon'\n",
    "                                , 'weekday'\n",
    "                                , 'sin_time'\n",
    "                                , 'cos_time'\n",
    "                                , 'THI'\n",
    "                                , 'CDH'\n",
    "                                , 'km_cluster'\n",
    "                                , 'km_0'\n",
    "                                , 'km_1'\n",
    "                                , 'km_2'\n",
    "                                , 'km_3',\n",
    "                                 'km_4'\n",
    "                                 ]]\n",
    "'''\n",
    "ACC train : 0.9994, test : 0.9956, SMAPE : 2.1337\n",
    "            importance\n",
    "km_3          0.380670\n",
    "km_1          0.312507\n",
    "km_2          0.094559\n",
    "noon          0.035857\n",
    "f_area        0.021027\n",
    "c_area        0.020925\n",
    "b_num         0.015429\n",
    "cos_time      0.012944\n",
    "hour          0.011429\n",
    "km_4          0.011308\n",
    "km_cluster    0.011065\n",
    "weekday       0.010876\n",
    "THI           0.010289\n",
    "SUN_light     0.008487\n",
    "sin_time      0.008243\n",
    "b_type        0.007413\n",
    "weekend       0.007038\n",
    "km_0          0.005612\n",
    "CDH           0.004565\n",
    "day           0.002701\n",
    "month         0.001848\n",
    "# w_s           0.001426\n",
    "# temp          0.001388\n",
    "# hum           0.001095\n",
    "# PCS           0.000631\n",
    "# ESS_save      0.000546\n",
    "# precip        0.000121\n",
    "\n",
    "'''\n",
    "ytrain = train_df['y']\n",
    "xtest = test_df[[\n",
    "#                                   'num_date_time'\n",
    "#                                  ,\"y\"\n",
    "#                                  ,\"ds\",\n",
    "                                 'b_num'\n",
    "                                 # ,'temp'\n",
    "                                 # ,'precip'\n",
    "                                 # ,'w_s'\n",
    "                                 # ,'hum'\n",
    "                                 ,'b_type'\n",
    "                                 ,'f_area'\n",
    "                                 ,'c_area'\n",
    "                                 ,'SUN_light'\n",
    "                                 # ,'ESS_save'\n",
    "                                 # ,'PCS'\n",
    "                                 ,'day'\n",
    "                                 ,'month'\n",
    "                                , 'hour'\n",
    "                                , 'weekend'\n",
    "                                , 'noon'\n",
    "                                , 'weekday'\n",
    "                                , 'sin_time'\n",
    "                                , 'cos_time'\n",
    "                                , 'THI'\n",
    "                                , 'CDH'\n",
    "                                , 'km_cluster'\n",
    "                                , 'km_0'\n",
    "                                , 'km_1'\n",
    "                                , 'km_2'\n",
    "                                , 'km_3',\n",
    "                                 'km_4'\n",
    "                                 ]]\n",
    "# xtrain, _, ytrain, _ = train_test_split(train_x, train_y, random_state=0, test_size=0)"
   ],
   "metadata": {
    "collapsed": false,
    "ExecuteTime": {
     "end_time": "2023-08-21T12:11:57.951936800Z",
     "start_time": "2023-08-21T12:11:57.944590500Z"
    }
   }
  },
  {
   "cell_type": "code",
   "execution_count": 7,
   "outputs": [],
   "source": [],
   "metadata": {
    "collapsed": false,
    "ExecuteTime": {
     "end_time": "2023-08-21T12:03:56.765922Z",
     "start_time": "2023-08-21T12:03:56.759918200Z"
    }
   }
  },
  {
   "cell_type": "code",
   "execution_count": 8,
   "outputs": [],
   "source": [],
   "metadata": {
    "collapsed": false,
    "ExecuteTime": {
     "end_time": "2023-08-21T12:07:17.683566400Z",
     "start_time": "2023-08-21T12:07:17.676560600Z"
    }
   }
  },
  {
   "cell_type": "code",
   "execution_count": 16,
   "outputs": [],
   "source": [
    "answer = RandomF_1(xtrain,ytrain,xtest)"
   ],
   "metadata": {
    "collapsed": false,
    "ExecuteTime": {
     "end_time": "2023-08-21T12:15:11.771445700Z",
     "start_time": "2023-08-21T12:12:12.856437300Z"
    }
   }
  },
  {
   "cell_type": "code",
   "execution_count": 17,
   "outputs": [],
   "source": [
    "test_submission[\"num_date_time\"] = test_df[\"num_date_time\"]\n",
    "test_submission[\"answer\"] = answer\n",
    "test_submission.to_csv(\"results/2023-08-21_3.csv\", index = False)"
   ],
   "metadata": {
    "collapsed": false,
    "ExecuteTime": {
     "end_time": "2023-08-21T12:15:11.820007600Z",
     "start_time": "2023-08-21T12:15:11.788008600Z"
    }
   }
  },
  {
   "cell_type": "code",
   "execution_count": 18,
   "outputs": [
    {
     "data": {
      "text/plain": "         num_date_time     answer\n0        1_20220825 00  2218.4592\n1        1_20220825 01  2212.2768\n2        1_20220825 02  1940.3712\n3        1_20220825 03  1901.8368\n4        1_20220825 04  1930.3536\n...                ...        ...\n16795  100_20220831 19   790.7280\n16796  100_20220831 20   737.0352\n16797  100_20220831 21   706.5348\n16798  100_20220831 22   649.8912\n16799  100_20220831 23   557.6310\n\n[16800 rows x 2 columns]",
      "text/html": "<div>\n<style scoped>\n    .dataframe tbody tr th:only-of-type {\n        vertical-align: middle;\n    }\n\n    .dataframe tbody tr th {\n        vertical-align: top;\n    }\n\n    .dataframe thead th {\n        text-align: right;\n    }\n</style>\n<table border=\"1\" class=\"dataframe\">\n  <thead>\n    <tr style=\"text-align: right;\">\n      <th></th>\n      <th>num_date_time</th>\n      <th>answer</th>\n    </tr>\n  </thead>\n  <tbody>\n    <tr>\n      <th>0</th>\n      <td>1_20220825 00</td>\n      <td>2218.4592</td>\n    </tr>\n    <tr>\n      <th>1</th>\n      <td>1_20220825 01</td>\n      <td>2212.2768</td>\n    </tr>\n    <tr>\n      <th>2</th>\n      <td>1_20220825 02</td>\n      <td>1940.3712</td>\n    </tr>\n    <tr>\n      <th>3</th>\n      <td>1_20220825 03</td>\n      <td>1901.8368</td>\n    </tr>\n    <tr>\n      <th>4</th>\n      <td>1_20220825 04</td>\n      <td>1930.3536</td>\n    </tr>\n    <tr>\n      <th>...</th>\n      <td>...</td>\n      <td>...</td>\n    </tr>\n    <tr>\n      <th>16795</th>\n      <td>100_20220831 19</td>\n      <td>790.7280</td>\n    </tr>\n    <tr>\n      <th>16796</th>\n      <td>100_20220831 20</td>\n      <td>737.0352</td>\n    </tr>\n    <tr>\n      <th>16797</th>\n      <td>100_20220831 21</td>\n      <td>706.5348</td>\n    </tr>\n    <tr>\n      <th>16798</th>\n      <td>100_20220831 22</td>\n      <td>649.8912</td>\n    </tr>\n    <tr>\n      <th>16799</th>\n      <td>100_20220831 23</td>\n      <td>557.6310</td>\n    </tr>\n  </tbody>\n</table>\n<p>16800 rows × 2 columns</p>\n</div>"
     },
     "execution_count": 18,
     "metadata": {},
     "output_type": "execute_result"
    }
   ],
   "source": [
    "test_submission"
   ],
   "metadata": {
    "collapsed": false,
    "ExecuteTime": {
     "end_time": "2023-08-21T12:15:11.821011800Z",
     "start_time": "2023-08-21T12:15:11.815213700Z"
    }
   }
  },
  {
   "cell_type": "code",
   "execution_count": null,
   "outputs": [],
   "source": [],
   "metadata": {
    "collapsed": false
   }
  }
 ],
 "metadata": {
  "kernelspec": {
   "display_name": "Python 3",
   "language": "python",
   "name": "python3"
  },
  "language_info": {
   "codemirror_mode": {
    "name": "ipython",
    "version": 2
   },
   "file_extension": ".py",
   "mimetype": "text/x-python",
   "name": "python",
   "nbconvert_exporter": "python",
   "pygments_lexer": "ipython2",
   "version": "2.7.6"
  }
 },
 "nbformat": 4,
 "nbformat_minor": 0
}

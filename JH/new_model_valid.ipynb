{
 "cells": [
  {
   "cell_type": "code",
   "execution_count": 64,
   "outputs": [],
   "source": [
    "import os\n",
    "import random\n",
    "import pandas as pd\n",
    "import numpy as np\n",
    "from sklearn.preprocessing import StandardScaler, MinMaxScaler, LabelEncoder\n",
    "from sklearn.model_selection import train_test_split\n",
    "from sklearn.linear_model import LinearRegression\n",
    "from sklearn.neighbors import KNeighborsRegressor\n",
    "from sklearn.cluster import KMeans\n",
    "from sklearn.tree import DecisionTreeRegressor\n",
    "from sklearn.ensemble import RandomForestRegressor, GradientBoostingRegressor\n",
    "from xgboost import XGBRegressor\n",
    "from sklearn.metrics import mean_absolute_error as MAE\n",
    "from sklearn.metrics import mean_squared_error as MSE\n",
    "from sklearn.metrics import mean_squared_log_error as MSLE\n",
    "from tqdm.auto import tqdm\n",
    "from prophet.plot import add_changepoints_to_plot, plot_seasonality\n",
    "from prophet import Prophet\n",
    "import koreanize_matplotlib"
   ],
   "metadata": {
    "collapsed": false,
    "ExecuteTime": {
     "end_time": "2023-08-21T11:10:20.243542Z",
     "start_time": "2023-08-21T11:10:20.224072400Z"
    }
   }
  },
  {
   "cell_type": "code",
   "execution_count": 96,
   "outputs": [],
   "source": [
    "\n",
    "def seed_everything(seed):\n",
    "    random.seed(seed)\n",
    "    os.environ['PYTHONHASHSEED'] = str(seed)\n",
    "    np.random.seed(seed)\n",
    "\n",
    "\n",
    "seed_everything(0)  # Seed 고정\n",
    "building_df = pd.read_csv('building_info.csv')\n",
    "train_df = pd.read_csv('train.csv')\n",
    "test_df = pd.read_csv('test.csv')\n"
   ],
   "metadata": {
    "collapsed": false,
    "ExecuteTime": {
     "end_time": "2023-08-21T11:37:19.509558Z",
     "start_time": "2023-08-21T11:37:19.348124500Z"
    }
   }
  },
  {
   "cell_type": "code",
   "execution_count": 97,
   "outputs": [],
   "source": [
    "building_df['태양광용량(kW)'] = building_df['태양광용량(kW)'].replace('-', 0).astype(float)\n",
    "building_df['ESS저장용량(kWh)'] = building_df['ESS저장용량(kWh)'].replace('-', 0).astype(float)\n",
    "building_df['PCS용량(kW)'] = building_df['PCS용량(kW)'].replace('-', 0).astype(float)"
   ],
   "metadata": {
    "collapsed": false,
    "ExecuteTime": {
     "end_time": "2023-08-21T11:37:19.876842300Z",
     "start_time": "2023-08-21T11:37:19.854785800Z"
    }
   }
  },
  {
   "cell_type": "code",
   "execution_count": 98,
   "outputs": [],
   "source": [
    "train_df = train_df.merge(building_df, on=\"건물번호\", how=\"left\")\n",
    "test_df = test_df.merge(building_df, on=\"건물번호\", how=\"left\")\n",
    "train_df = train_df.drop(columns = [\"일조(hr)\" , \"일사(MJ/m2)\"], axis=1)\n",
    "# test_df = test_df.drop(columns = [\"일조(hr)\" , \"일사(MJ/m2)\"], axis=1)"
   ],
   "metadata": {
    "collapsed": false,
    "ExecuteTime": {
     "end_time": "2023-08-21T11:37:22.640133300Z",
     "start_time": "2023-08-21T11:37:22.580911900Z"
    }
   }
  },
  {
   "cell_type": "code",
   "execution_count": 99,
   "outputs": [
    {
     "name": "stderr",
     "output_type": "stream",
     "text": [
      "C:\\Users\\ppjjh\\AppData\\Local\\Temp\\ipykernel_70860\\141639945.py:61: FutureWarning: In a future version of pandas all arguments of DataFrame.pivot will be keyword-only.\n",
      "  by_weekday = train_df.groupby(['b_num','weekday'])['power'].median().reset_index().pivot('b_num','weekday','power').reset_index()\n",
      "C:\\Users\\ppjjh\\AppData\\Local\\Temp\\ipykernel_70860\\141639945.py:62: FutureWarning: In a future version of pandas all arguments of DataFrame.pivot will be keyword-only.\n",
      "  by_hour = train_df.groupby(['b_num','hour'])['power'].median().reset_index().pivot('b_num','hour','power').reset_index().drop('b_num', axis = 1)\n",
      "C:\\Users\\ppjjh\\anaconda3\\envs\\torch2\\Lib\\site-packages\\sklearn\\cluster\\_kmeans.py:870: FutureWarning: The default value of `n_init` will change from 10 to 'auto' in 1.4. Set the value of `n_init` explicitly to suppress the warning\n",
      "  warnings.warn(\n",
      "C:\\Users\\ppjjh\\anaconda3\\envs\\torch2\\Lib\\site-packages\\sklearn\\cluster\\_kmeans.py:1382: UserWarning: KMeans is known to have a memory leak on Windows with MKL, when there are less chunks than available threads. You can avoid it by setting the environment variable OMP_NUM_THREADS=1.\n",
      "  warnings.warn(\n"
     ]
    },
    {
     "data": {
      "text/plain": "   num_date_time  b_num                  ds  temp  precip  w_s   hum        y  \\\n0  1_20220601 00      1 2022-06-01 00:00:00  18.6     0.0  0.9  42.0  1085.28   \n1  1_20220601 01      1 2022-06-01 01:00:00  18.0     0.0  1.1  45.0  1047.36   \n2  1_20220601 02      1 2022-06-01 02:00:00  17.7     0.0  1.5  45.0   974.88   \n3  1_20220601 03      1 2022-06-01 03:00:00  16.7     0.0  1.4  48.0   953.76   \n4  1_20220601 04      1 2022-06-01 04:00:00  18.4     0.0  2.8  43.0   986.40   \n\n   b_type  f_area  ...  sin_time  cos_time       THI   CDH  km_cluster  km_0  \\\n0       0      59  ...  0.000000  1.000000  63.09388  -7.4           0     1   \n1       0      59  ...  0.258819  0.965926  62.46400 -15.4           0     1   \n2       0      59  ...  0.500000  0.866025  62.08735 -23.7           0     1   \n3       0      59  ...  0.707107  0.707107  60.89884 -33.0           0     1   \n4       0      59  ...  0.866025  0.500000  62.88788 -40.6           0     1   \n\n   km_1  km_2  km_3  km_4  \n0     0     0     0     0  \n1     0     0     0     0  \n2     0     0     0     0  \n3     0     0     0     0  \n4     0     0     0     0  \n\n[5 rows x 30 columns]",
      "text/html": "<div>\n<style scoped>\n    .dataframe tbody tr th:only-of-type {\n        vertical-align: middle;\n    }\n\n    .dataframe tbody tr th {\n        vertical-align: top;\n    }\n\n    .dataframe thead th {\n        text-align: right;\n    }\n</style>\n<table border=\"1\" class=\"dataframe\">\n  <thead>\n    <tr style=\"text-align: right;\">\n      <th></th>\n      <th>num_date_time</th>\n      <th>b_num</th>\n      <th>ds</th>\n      <th>temp</th>\n      <th>precip</th>\n      <th>w_s</th>\n      <th>hum</th>\n      <th>y</th>\n      <th>b_type</th>\n      <th>f_area</th>\n      <th>...</th>\n      <th>sin_time</th>\n      <th>cos_time</th>\n      <th>THI</th>\n      <th>CDH</th>\n      <th>km_cluster</th>\n      <th>km_0</th>\n      <th>km_1</th>\n      <th>km_2</th>\n      <th>km_3</th>\n      <th>km_4</th>\n    </tr>\n  </thead>\n  <tbody>\n    <tr>\n      <th>0</th>\n      <td>1_20220601 00</td>\n      <td>1</td>\n      <td>2022-06-01 00:00:00</td>\n      <td>18.6</td>\n      <td>0.0</td>\n      <td>0.9</td>\n      <td>42.0</td>\n      <td>1085.28</td>\n      <td>0</td>\n      <td>59</td>\n      <td>...</td>\n      <td>0.000000</td>\n      <td>1.000000</td>\n      <td>63.09388</td>\n      <td>-7.4</td>\n      <td>0</td>\n      <td>1</td>\n      <td>0</td>\n      <td>0</td>\n      <td>0</td>\n      <td>0</td>\n    </tr>\n    <tr>\n      <th>1</th>\n      <td>1_20220601 01</td>\n      <td>1</td>\n      <td>2022-06-01 01:00:00</td>\n      <td>18.0</td>\n      <td>0.0</td>\n      <td>1.1</td>\n      <td>45.0</td>\n      <td>1047.36</td>\n      <td>0</td>\n      <td>59</td>\n      <td>...</td>\n      <td>0.258819</td>\n      <td>0.965926</td>\n      <td>62.46400</td>\n      <td>-15.4</td>\n      <td>0</td>\n      <td>1</td>\n      <td>0</td>\n      <td>0</td>\n      <td>0</td>\n      <td>0</td>\n    </tr>\n    <tr>\n      <th>2</th>\n      <td>1_20220601 02</td>\n      <td>1</td>\n      <td>2022-06-01 02:00:00</td>\n      <td>17.7</td>\n      <td>0.0</td>\n      <td>1.5</td>\n      <td>45.0</td>\n      <td>974.88</td>\n      <td>0</td>\n      <td>59</td>\n      <td>...</td>\n      <td>0.500000</td>\n      <td>0.866025</td>\n      <td>62.08735</td>\n      <td>-23.7</td>\n      <td>0</td>\n      <td>1</td>\n      <td>0</td>\n      <td>0</td>\n      <td>0</td>\n      <td>0</td>\n    </tr>\n    <tr>\n      <th>3</th>\n      <td>1_20220601 03</td>\n      <td>1</td>\n      <td>2022-06-01 03:00:00</td>\n      <td>16.7</td>\n      <td>0.0</td>\n      <td>1.4</td>\n      <td>48.0</td>\n      <td>953.76</td>\n      <td>0</td>\n      <td>59</td>\n      <td>...</td>\n      <td>0.707107</td>\n      <td>0.707107</td>\n      <td>60.89884</td>\n      <td>-33.0</td>\n      <td>0</td>\n      <td>1</td>\n      <td>0</td>\n      <td>0</td>\n      <td>0</td>\n      <td>0</td>\n    </tr>\n    <tr>\n      <th>4</th>\n      <td>1_20220601 04</td>\n      <td>1</td>\n      <td>2022-06-01 04:00:00</td>\n      <td>18.4</td>\n      <td>0.0</td>\n      <td>2.8</td>\n      <td>43.0</td>\n      <td>986.40</td>\n      <td>0</td>\n      <td>59</td>\n      <td>...</td>\n      <td>0.866025</td>\n      <td>0.500000</td>\n      <td>62.88788</td>\n      <td>-40.6</td>\n      <td>0</td>\n      <td>1</td>\n      <td>0</td>\n      <td>0</td>\n      <td>0</td>\n      <td>0</td>\n    </tr>\n  </tbody>\n</table>\n<p>5 rows × 30 columns</p>\n</div>"
     },
     "execution_count": 99,
     "metadata": {},
     "output_type": "execute_result"
    }
   ],
   "source": [
    "train_df.rename(columns={\"num_date_time\" : \"num_date_time\", \"건물번호\":\"b_num\", \"일시\" : \"D&T\", \"기온(C)\" : \"temp\", \"강수량(mm)\" : \"precip\", \"풍속(m/s)\" : \"w_s\" , \"습도(%)\" : \"hum\", \"전력소비량(kWh)\":\"power\", \"건물유형\":\"b_type\", \"연면적(m2)\":\"f_area\", \"냉방면적(m2)\":\"c_area\", \"태양광용량(kW)\": \"SUN_light\", \"ESS저장용량(kWh)\": \"ESS_save\", \"PCS용량(kW)\":\"PCS\" }, inplace=True)\n",
    "test_df.rename(columns={\"num_date_time\" : \"num_date_time\", \"건물번호\":\"b_num\", \"일시\" : \"D&T\", \"기온(C)\" : \"temp\", \"강수량(mm)\" : \"precip\", \"풍속(m/s)\" : \"w_s\" , \"습도(%)\" : \"hum\", \"전력소비량(kWh)\":\"power\", \"건물유형\":\"b_type\", \"연면적(m2)\":\"f_area\", \"냉방면적(m2)\":\"c_area\", \"태양광용량(kW)\": \"SUN_light\", \"ESS저장용량(kWh)\": \"ESS_save\", \"PCS용량(kW)\":\"PCS\"} , inplace= True)\n",
    "\n",
    "# 선형보간 실시\n",
    "train_df[\"w_s\"] = train_df[\"w_s\"].interpolate()\n",
    "train_df[\"hum\"] = train_df[\"hum\"].interpolate()\n",
    "train_df.loc[train_df[\"w_s\"]<0] = 0\n",
    "train_df.loc[train_df[\"hum\"]<0] = 0\n",
    "# 소수점 단위 절삭\n",
    "train_df[\"c_area\"] = train_df[\"c_area\"].round(4)\n",
    "train_df[\"f_area\"] = train_df[\"f_area\"].round(4)\n",
    "\n",
    "lf = LabelEncoder()\n",
    "train_df[\"c_area\"] = lf.fit_transform(train_df[\"c_area\"])\n",
    "train_df[\"f_area\"] = lf.fit_transform(train_df[\"f_area\"])\n",
    "train_df[\"b_type\"] = lf.fit_transform(train_df[\"b_type\"])\n",
    "train_df = train_df.fillna(0)\n",
    "\n",
    "def CDH(xs):\n",
    "    ys = []\n",
    "    for i in range(len(xs)):\n",
    "        if i < 11:\n",
    "            ys.append(np.sum(xs[:(i+1)]-26))\n",
    "        else:\n",
    "            ys.append(np.sum(xs[(i-11):(i+1)]-26))\n",
    "    return np.array(ys)\n",
    "def is_weekend(ds):\n",
    "    date = pd.to_datetime(ds)\n",
    "    if date.weekday() >= 5:\n",
    "        return 1\n",
    "    else:\n",
    "        return 0\n",
    "def is_noon(ds):\n",
    "    date = pd.to_datetime(ds)\n",
    "    if date.hour >= 7 and date.hour<20:\n",
    "        return 1\n",
    "    else:\n",
    "        return 0\n",
    "# 파생변수 생성 (train data)\n",
    "train_df['D&T'] = pd.to_datetime(train_df['D&T'])\n",
    "# train_df['month'] = train_df['num_date_time'].apply(lambda x : int(x[4:6]))\n",
    "train_df['day'] = train_df['D&T'].dt.day\n",
    "train_df['month'] = train_df['D&T'].dt.month\n",
    "train_df['hour'] = train_df['D&T'].dt.hour\n",
    "train_df['weekend'] = train_df['D&T'].apply(is_weekend)\n",
    "train_df['noon'] = train_df['D&T'].apply(is_noon)\n",
    "train_df['weekday'] = train_df['D&T'].dt.weekday\n",
    "train_df['sin_time'] = np.sin(2*np.pi*train_df.hour/24)\n",
    "train_df['cos_time'] = np.cos(2*np.pi*train_df.hour/24)\n",
    "train_df['THI'] = 9/5*train_df['temp'] - 0.55*(1-train_df['hum']/100)*(9/5*train_df['temp']-26)+32\n",
    "\n",
    "cdhs = np.array([])\n",
    "for num in range(1,101,1):\n",
    "    temp = train_df[train_df['b_num'] == num]\n",
    "    cdh = CDH(temp['temp'].values)\n",
    "    cdhs = np.concatenate([cdhs, cdh])\n",
    "\n",
    "train_df['CDH'] = cdhs\n",
    "# train_df.drop(\"D&T\", axis =1 , inplace=True)\n",
    "# K-Means > train data\n",
    "by_weekday = train_df.groupby(['b_num','weekday'])['power'].median().reset_index().pivot('b_num','weekday','power').reset_index()\n",
    "by_hour = train_df.groupby(['b_num','hour'])['power'].median().reset_index().pivot('b_num','hour','power').reset_index().drop('b_num', axis = 1)\n",
    "\n",
    "df = pd.concat([by_weekday, by_hour], axis= 1)\n",
    "columns = ['b_num'] + ['weekday'+str(i) for i in range(7)] + ['hour'+str(i) for i in range(24)]\n",
    "df.columns = columns\n",
    "kmeans = KMeans(n_clusters=5, random_state = 42)\n",
    "km_cluster = kmeans.fit_predict(df.iloc[:,1:])\n",
    "\n",
    "df_clust = df.copy()\n",
    "df_clust['km_cluster'] = km_cluster\n",
    "# df_clust['km_cluster'] = df_clust['km_cluster'].map({})\n",
    "\n",
    "train_df = train_df.merge(df_clust[['b_num','km_cluster']], on='b_num', how='left')\n",
    "km_d = pd.get_dummies(train_df['km_cluster'], prefix='km', drop_first=False)\n",
    "\n",
    "train_df = pd.concat([train_df, km_d], axis=1)\n",
    "# prophet 형태로 전환\n",
    "train_df.rename(columns={\"D&T\": \"ds\", \"power\": \"y\"}, inplace=True)\n",
    "\n",
    "train_df[\"b_type\"] = lf.fit_transform(train_df[\"b_type\"])\n",
    "train_df.head()"
   ],
   "metadata": {
    "collapsed": false,
    "ExecuteTime": {
     "end_time": "2023-08-21T11:37:25.119818900Z",
     "start_time": "2023-08-21T11:37:22.999754500Z"
    }
   }
  },
  {
   "cell_type": "code",
   "execution_count": 100,
   "outputs": [],
   "source": [
    "def get_score_splited_train(model, xtrain, xtest, ytrain, ytest):\n",
    "    A = model.score(xtrain, ytrain)\n",
    "    B = model.score(xtest,ytest)\n",
    "    pred = model.predict(xtest)\n",
    "    C = SMAPE(ytest, pred)\n",
    "\n",
    "    print(f\"ACC train : {A:.4f}, test : {B:.4f}, SMAPE : {C:.4f}\" )\n",
    "def SMAPE(true, pred):\n",
    "    return np.mean((np.abs(true-pred))/(np.abs(true) + np.abs(pred))) * 100"
   ],
   "metadata": {
    "collapsed": false,
    "ExecuteTime": {
     "end_time": "2023-08-21T11:37:25.125343600Z",
     "start_time": "2023-08-21T11:37:25.121819700Z"
    }
   }
  },
  {
   "cell_type": "markdown",
   "source": [
    "## Models"
   ],
   "metadata": {
    "collapsed": false
   }
  },
  {
   "cell_type": "code",
   "execution_count": 70,
   "outputs": [],
   "source": [
    "def linear_1(x_train, y_train, x_test, y_test):\n",
    "\n",
    "    model1 = LinearRegression().fit(x_train, y_train)\n",
    "    y_pred = model1.predict(x_test)   #  y_pred -> 1D ndarray\n",
    "    y_pred = np.where(y_pred<0, -y_pred, y_pred)\n",
    "    # ValueError: Mean Squared Logarithmic Error cannot be used when targets contain negative values.\n",
    "    #RMSLE = lambda y_true, y_pred : MSLE(y_true, y_pred) ** 0.5\n",
    "    A,B,C = model1.score(x_train, y_train), model1.score(x_test, y_test), SMAPE(y_test, y_pred)\n",
    "    print(f'train_score : {A:.4f}, test_score : {B:.4f}, SMAPE : {C:.4f}')\n",
    "    return y_pred, C"
   ],
   "metadata": {
    "collapsed": false,
    "ExecuteTime": {
     "end_time": "2023-08-21T11:10:22.384753300Z",
     "start_time": "2023-08-21T11:10:22.383067900Z"
    }
   }
  },
  {
   "cell_type": "code",
   "execution_count": 71,
   "outputs": [],
   "source": [
    "def decision_1(x_train, y_train, x_test, y_test):\n",
    "    model2 = DecisionTreeRegressor(random_state = 0).fit(x_train, y_train)\n",
    "    y_pred = model2.predict(x_test)   #  y_pred -> 1D ndarray\n",
    "    y_pred = np.where(y_pred<0, -y_pred, y_pred)\n",
    "    # ValueError: Mean Squared Logarithmic Error cannot be used when targets contain negative values.\n",
    "    #RMSLE = lambda y_true, y_pred : MSLE(y_true, y_pred) ** 0.5\n",
    "    A,B,C = model2.score(x_train, y_train), model2.score(x_test, y_test), SMAPE(y_test, y_pred)\n",
    "    print(f'train_score : {A:.4f}, test_score : {B:.4f}, SMAPE : {C:.4f}')\n",
    "    return y_pred, C"
   ],
   "metadata": {
    "collapsed": false,
    "ExecuteTime": {
     "end_time": "2023-08-21T11:10:22.388765500Z",
     "start_time": "2023-08-21T11:10:22.387252300Z"
    }
   }
  },
  {
   "cell_type": "code",
   "execution_count": 120,
   "outputs": [],
   "source": [
    "def RandomF_1(x_train, y_train, x_test, y_test):\n",
    "    model3 = RandomForestRegressor(random_state=0).fit(x_train, y_train)\n",
    "    y_pred = model3.predict(x_test)   #  y_pred -> 1D ndarray\n",
    "    y_pred = np.where(y_pred<0, -y_pred, y_pred)\n",
    "    # ValueError: Mean Squared Logarithmic Error cannot be used when targets contain negative values.\n",
    "    #RMSLE = lambda y_true, y_pred : MSLE(y_true, y_pred) ** 0.5\n",
    "    A,B,C = model3.score(x_train, y_train), model3.score(x_test, y_test), SMAPE(y_test, y_pred)\n",
    "    print(f'train_score : {A:.4f}, test_score : {B:.4f}, SMAPE : {C:.4f}')\n",
    "    return y_pred, C"
   ],
   "metadata": {
    "collapsed": false,
    "ExecuteTime": {
     "end_time": "2023-08-21T11:57:07.166471400Z",
     "start_time": "2023-08-21T11:57:07.160955700Z"
    }
   }
  },
  {
   "cell_type": "code",
   "execution_count": 73,
   "outputs": [],
   "source": [
    "# XGB"
   ],
   "metadata": {
    "collapsed": false,
    "ExecuteTime": {
     "end_time": "2023-08-21T11:10:22.396203500Z",
     "start_time": "2023-08-21T11:10:22.394689600Z"
    }
   }
  },
  {
   "cell_type": "code",
   "execution_count": 74,
   "outputs": [],
   "source": [
    "# CAT\n"
   ],
   "metadata": {
    "collapsed": false,
    "ExecuteTime": {
     "end_time": "2023-08-21T11:10:22.421912300Z",
     "start_time": "2023-08-21T11:10:22.397546500Z"
    }
   }
  },
  {
   "cell_type": "code",
   "execution_count": 74,
   "outputs": [],
   "source": [],
   "metadata": {
    "collapsed": false,
    "ExecuteTime": {
     "end_time": "2023-08-21T11:10:22.443910400Z",
     "start_time": "2023-08-21T11:10:22.400333600Z"
    }
   }
  },
  {
   "cell_type": "code",
   "execution_count": 74,
   "outputs": [],
   "source": [],
   "metadata": {
    "collapsed": false,
    "ExecuteTime": {
     "end_time": "2023-08-21T11:10:22.455797700Z",
     "start_time": "2023-08-21T11:10:22.403208700Z"
    }
   }
  },
  {
   "cell_type": "code",
   "execution_count": 74,
   "outputs": [],
   "source": [],
   "metadata": {
    "collapsed": false,
    "ExecuteTime": {
     "end_time": "2023-08-21T11:10:22.455797700Z",
     "start_time": "2023-08-21T11:10:22.405723800Z"
    }
   }
  },
  {
   "cell_type": "markdown",
   "source": [
    "# 데이터 결합 처리"
   ],
   "metadata": {
    "collapsed": false
   }
  },
  {
   "cell_type": "code",
   "execution_count": 121,
   "outputs": [],
   "source": [
    "# Feature Importance 추출\n",
    "train_x = train_df[[\n",
    "#                                   'num_date_time'\n",
    "#                                  ,\"y\"\n",
    "#                                  ,\"ds\",\n",
    "                                 'b_num'\n",
    "                                 # ,'temp'\n",
    "                                 # ,'precip'\n",
    "                                 # ,'w_s'\n",
    "                                 # ,'hum'\n",
    "                                 ,'b_type'\n",
    "                                 ,'f_area'\n",
    "                                 ,'c_area'\n",
    "                                 ,'SUN_light'\n",
    "                                 # ,'ESS_save'\n",
    "                                 # ,'PCS'\n",
    "                                 ,'day'\n",
    "                                 ,'month'\n",
    "                                , 'hour'\n",
    "                                , 'weekend'\n",
    "                                , 'noon'\n",
    "                                , 'weekday'\n",
    "                                , 'sin_time'\n",
    "                                , 'cos_time'\n",
    "                                , 'THI'\n",
    "                                , 'CDH'\n",
    "                                , 'km_cluster'\n",
    "                                , 'km_0'\n",
    "                                , 'km_1'\n",
    "                                , 'km_2'\n",
    "                                , 'km_3',\n",
    "                                 'km_4'\n",
    "                                 ]]\n",
    "'''\n",
    "ACC train : 0.9994, test : 0.9956, SMAPE : 2.1337\n",
    "            importance\n",
    "km_3          0.380670\n",
    "km_1          0.312507\n",
    "km_2          0.094559\n",
    "noon          0.035857\n",
    "f_area        0.021027\n",
    "c_area        0.020925\n",
    "b_num         0.015429\n",
    "cos_time      0.012944\n",
    "hour          0.011429\n",
    "km_4          0.011308\n",
    "km_cluster    0.011065\n",
    "weekday       0.010876\n",
    "THI           0.010289\n",
    "SUN_light     0.008487\n",
    "sin_time      0.008243\n",
    "b_type        0.007413\n",
    "weekend       0.007038\n",
    "km_0          0.005612\n",
    "CDH           0.004565\n",
    "day           0.002701\n",
    "month         0.001848\n",
    "# w_s           0.001426\n",
    "# temp          0.001388\n",
    "# hum           0.001095\n",
    "# PCS           0.000631\n",
    "# ESS_save      0.000546\n",
    "# precip        0.000121\n",
    "\n",
    "'''\n",
    "train_y = train_df['y']\n",
    "xtrain, xtest, ytrain, ytest = train_test_split(train_x, train_y, random_state=0)"
   ],
   "metadata": {
    "collapsed": false,
    "ExecuteTime": {
     "end_time": "2023-08-21T11:57:24.209313Z",
     "start_time": "2023-08-21T11:57:24.177794900Z"
    }
   }
  },
  {
   "cell_type": "code",
   "execution_count": null,
   "outputs": [],
   "source": [
    "# best_rf = RandomForestRegressor(random_state=42, bootstrap=True, max_depth=None, min_samples_leaf=1,\n",
    "#                                 min_samples_split=2, n_estimators=200)\n",
    "# best_rf.fit(xtrain, ytrain)\n",
    "# get_score_splited_train(best_rf, xtrain, xtest, ytrain, ytest)\n",
    "# prediction = best_rf.predict(xtest)\n",
    "# SMAPE(ytest, prediction)\n",
    "# feature_importances = pd.DataFrame(best_rf.feature_importances_,\n",
    "#\n",
    "#                                    index=xtrain.columns,\n",
    "#                                    columns=['importance']).sort_values('importance', ascending=False)\n",
    "# print(feature_importances)\n"
   ],
   "metadata": {
    "collapsed": false
   }
  },
  {
   "cell_type": "code",
   "execution_count": null,
   "outputs": [],
   "source": [
    "# linear_1(xtrain,ytrain,xtest,ytest)"
   ],
   "metadata": {
    "collapsed": false
   }
  },
  {
   "cell_type": "code",
   "execution_count": null,
   "outputs": [],
   "source": [
    "# decision_1(xtrain,ytrain,xtest,ytest)"
   ],
   "metadata": {
    "collapsed": false
   }
  },
  {
   "cell_type": "code",
   "execution_count": 122,
   "outputs": [
    {
     "name": "stdout",
     "output_type": "stream",
     "text": [
      "train_score : 0.9994, test_score : 0.9958, SMAPE : 2.0508\n"
     ]
    },
    {
     "data": {
      "text/plain": "(array([3131.8158,  810.4392, 3441.8484, ..., 4577.58  , 4416.384 ,\n        3535.8138]),\n 2.0508181481235193)"
     },
     "execution_count": 122,
     "metadata": {},
     "output_type": "execute_result"
    }
   ],
   "source": [
    "# TODO : pipeline 만들기\n",
    "# Gridsearch 적용하기\n",
    "RandomF_1(xtrain,ytrain,xtest,ytest)"
   ],
   "metadata": {
    "collapsed": false,
    "ExecuteTime": {
     "end_time": "2023-08-21T11:58:54.972381900Z",
     "start_time": "2023-08-21T11:57:28.447572500Z"
    }
   }
  },
  {
   "cell_type": "code",
   "execution_count": 91,
   "outputs": [
    {
     "name": "stdout",
     "output_type": "stream",
     "text": [
      "1.2.2\n"
     ]
    }
   ],
   "source": [
    "# 2.0508181481235193\n",
    "import sklearn\n",
    "print(sklearn.__version__)"
   ],
   "metadata": {
    "collapsed": false,
    "ExecuteTime": {
     "end_time": "2023-08-21T11:31:14.500116300Z",
     "start_time": "2023-08-21T11:31:14.495182300Z"
    }
   }
  },
  {
   "cell_type": "markdown",
   "source": [
    "# Data 개별 처리"
   ],
   "metadata": {
    "collapsed": false
   }
  },
  {
   "cell_type": "code",
   "execution_count": 55,
   "outputs": [],
   "source": [
    "# Feature Importance 추출\n",
    "train_df = train_df[[\n",
    "\n",
    "                                      # 'num_date_time'\n",
    "                                 \"y\"\n",
    "#                                  ,\"ds\",\n",
    "                                 ,'b_num'\n",
    "                                 ,'temp'\n",
    "                                 # ,'precip'\n",
    "                                 ,'w_s'\n",
    "                                 ,'hum'\n",
    "                                 ,'b_type'\n",
    "                                 ,'f_area'\n",
    "                                 ,'c_area'\n",
    "                                 ,'SUN_light'\n",
    "                                 ,'ESS_save'\n",
    "                                 ,'PCS'\n",
    "                                 ,'day'\n",
    "                                 ,'month'\n",
    "                                , 'hour'\n",
    "                                , 'weekend'\n",
    "                                , 'noon'\n",
    "                                , 'weekday'\n",
    "                                , 'sin_time'\n",
    "                                , 'cos_time'\n",
    "                                , 'THI'\n",
    "                                , 'CDH'\n",
    "                                , 'km_cluster'\n",
    "                                , 'km_0'\n",
    "                                , 'km_1'\n",
    "                                , 'km_2'\n",
    "                                , 'km_3',\n",
    "                                 'km_4'\n",
    "                                 ]]\n"
   ],
   "metadata": {
    "collapsed": false,
    "ExecuteTime": {
     "end_time": "2023-08-21T10:58:50.808547300Z",
     "start_time": "2023-08-21T10:58:50.805966900Z"
    }
   }
  },
  {
   "cell_type": "code",
   "execution_count": 50,
   "outputs": [
    {
     "data": {
      "text/plain": "  0%|          | 0/100 [00:00<?, ?it/s]",
      "application/vnd.jupyter.widget-view+json": {
       "version_major": 2,
       "version_minor": 0,
       "model_id": "60884fd199f14d4786380705114ba540"
      }
     },
     "metadata": {},
     "output_type": "display_data"
    },
    {
     "name": "stdout",
     "output_type": "stream",
     "text": [
      "train_score : 0.9961, test_score : 0.9474, SMAPE : 3.5188\n",
      "train_score : 0.9925, test_score : 0.8728, SMAPE : 3.9538\n",
      "train_score : 0.9851, test_score : 0.8808, SMAPE : 4.5674\n",
      "train_score : 0.9965, test_score : 0.9627, SMAPE : 2.3454\n",
      "train_score : 0.9968, test_score : 0.9797, SMAPE : 2.5801\n",
      "train_score : 0.9979, test_score : 0.9624, SMAPE : 2.2786\n",
      "train_score : 0.9921, test_score : 0.9181, SMAPE : 3.6236\n",
      "train_score : 0.9732, test_score : 0.7245, SMAPE : 2.7161\n",
      "train_score : 0.9981, test_score : 0.9723, SMAPE : 2.1077\n",
      "train_score : 0.9891, test_score : -0.0124, SMAPE : 4.9489\n",
      "train_score : 0.9895, test_score : 0.8926, SMAPE : 1.8299\n",
      "train_score : 0.9938, test_score : 0.8450, SMAPE : 2.4594\n",
      "train_score : 0.9777, test_score : 0.1398, SMAPE : 3.5661\n",
      "train_score : 0.9591, test_score : 0.2058, SMAPE : 8.5040\n",
      "train_score : 0.9911, test_score : 0.9046, SMAPE : 1.5466\n",
      "train_score : 0.9976, test_score : 0.9774, SMAPE : 2.3296\n",
      "train_score : 0.9960, test_score : 0.9475, SMAPE : 2.8354\n",
      "train_score : 0.9957, test_score : 0.9240, SMAPE : 3.4143\n",
      "train_score : 0.9972, test_score : 0.9334, SMAPE : 4.0658\n",
      "train_score : 0.9960, test_score : 0.9528, SMAPE : 3.1295\n",
      "train_score : 0.9947, test_score : 0.9347, SMAPE : 3.7345\n",
      "train_score : 0.9944, test_score : 0.9270, SMAPE : 1.9386\n",
      "train_score : 0.9978, test_score : 0.9723, SMAPE : 0.8933\n",
      "train_score : 0.9972, test_score : 0.9861, SMAPE : 1.2195\n",
      "train_score : 0.9972, test_score : 0.9852, SMAPE : 1.1846\n",
      "train_score : 0.9970, test_score : 0.9799, SMAPE : 1.1622\n",
      "train_score : 0.9974, test_score : 0.9650, SMAPE : 0.9937\n",
      "train_score : 0.9942, test_score : 0.9147, SMAPE : 3.0084\n",
      "train_score : 0.9967, test_score : 0.8512, SMAPE : 2.8107\n",
      "train_score : 0.9889, test_score : 0.8235, SMAPE : 4.0200\n",
      "train_score : 0.9963, test_score : 0.9258, SMAPE : 2.8391\n",
      "train_score : 0.9969, test_score : 0.8227, SMAPE : 0.2311\n",
      "train_score : 0.9958, test_score : 0.6721, SMAPE : 0.2314\n",
      "train_score : 0.9903, test_score : 0.9122, SMAPE : 0.2974\n",
      "train_score : 0.9938, test_score : 0.8527, SMAPE : 0.2424\n",
      "train_score : 0.9914, test_score : 0.7152, SMAPE : 0.2880\n",
      "train_score : 0.9981, test_score : 0.9679, SMAPE : 2.8918\n",
      "train_score : 0.9977, test_score : 0.9974, SMAPE : 1.6088\n",
      "train_score : 0.9986, test_score : 0.9882, SMAPE : 2.7991\n",
      "train_score : 0.9967, test_score : 0.8796, SMAPE : 6.1114\n",
      "train_score : 0.9980, test_score : 0.9869, SMAPE : 2.3455\n",
      "train_score : 0.9990, test_score : 0.7973, SMAPE : 5.7708\n",
      "train_score : 0.9995, test_score : 0.9964, SMAPE : 2.5903\n",
      "train_score : 0.9997, test_score : 0.9958, SMAPE : 1.9208\n",
      "train_score : 0.9968, test_score : 0.9594, SMAPE : 1.2805\n",
      "train_score : 0.9957, test_score : 0.8796, SMAPE : 3.3475\n",
      "train_score : 0.9958, test_score : 0.9206, SMAPE : 2.4775\n",
      "train_score : 0.9978, test_score : 0.9774, SMAPE : 1.3683\n",
      "train_score : 0.9973, test_score : 0.8735, SMAPE : 2.1815\n",
      "train_score : 0.9970, test_score : 0.8866, SMAPE : 1.6740\n",
      "train_score : 0.9960, test_score : 0.9188, SMAPE : 2.3366\n",
      "train_score : 0.9967, test_score : 0.9681, SMAPE : 1.7624\n",
      "train_score : 0.9952, test_score : 0.9609, SMAPE : 5.4975\n",
      "train_score : 0.9966, test_score : 0.7547, SMAPE : 10.7248\n",
      "train_score : 0.9966, test_score : 0.9260, SMAPE : 0.7735\n",
      "train_score : 0.9888, test_score : 0.8494, SMAPE : 0.5839\n",
      "train_score : 0.9973, test_score : 0.9856, SMAPE : 2.2601\n",
      "train_score : 0.9910, test_score : 0.9392, SMAPE : 0.2099\n",
      "train_score : 0.9963, test_score : 0.9819, SMAPE : 2.6152\n",
      "train_score : 0.9967, test_score : 0.9454, SMAPE : 2.9203\n",
      "train_score : 0.9946, test_score : 0.9472, SMAPE : 2.1638\n",
      "train_score : 0.9963, test_score : 0.9453, SMAPE : 2.3395\n",
      "train_score : 0.9957, test_score : 0.9134, SMAPE : 3.1508\n",
      "train_score : 0.9966, test_score : 0.9679, SMAPE : 1.7051\n",
      "train_score : 0.9923, test_score : 0.8403, SMAPE : 4.3751\n",
      "train_score : 0.9932, test_score : 0.7438, SMAPE : 3.1048\n",
      "train_score : 0.9965, test_score : 0.8752, SMAPE : 3.0260\n",
      "train_score : 0.9959, test_score : 0.9565, SMAPE : 2.0281\n",
      "train_score : 0.9955, test_score : 0.9703, SMAPE : 1.3574\n",
      "train_score : 0.9962, test_score : 0.9591, SMAPE : 1.6274\n",
      "train_score : 0.9885, test_score : 0.8692, SMAPE : 2.2205\n",
      "train_score : 0.9952, test_score : 0.5437, SMAPE : 3.7304\n"
     ]
    },
    {
     "name": "stderr",
     "output_type": "stream",
     "text": [
      "\n",
      "KeyboardInterrupt\n",
      "\n"
     ]
    }
   ],
   "source": [
    "test_submission = pd.DataFrame(columns=['num_date_time', 'answer'])\n",
    "# 나머지 0처리\n",
    "\n",
    "holidays = pd.DataFrame(columns=['holiday', 'ds'])\n",
    "# holidays[\"lower_window\"] = 1\n",
    "# holidays[\"upper_window\"] = 1\n",
    "smape_list = []\n",
    "answer_list = []\n",
    "# num_list = []\n",
    "for i in tqdm(range(1,101)):\n",
    "    # 한건물당 168개씩 예측한다\n",
    "    train = train_df.loc[(train_df[\"b_num\"] == i), ][:-168]\n",
    "    test = train_df.loc[(train_df[\"b_num\"] == i), ][-168:].reset_index(drop=True)\n",
    "    # p_train = train.drop(columns= [\"num_date_time\"])\n",
    "    x_train = train.drop(columns= \"y\")\n",
    "    y_train = train[\"y\"]\n",
    "    x_test = test.drop(columns= \"y\")\n",
    "    # p_test = test.drop(columns= [\"num_date_time\"])\n",
    "    y_test = test[\"y\"]\n",
    "    answer , smape_data = RandomF_1(x_train,y_train, x_test, y_test)\n",
    "    # test_submission[\"answer\"]= pd.concat([test_submission[\"answer\"], pd.Series(answer)], axis = 0 ).reset_index(drop=True)\n",
    "    answer_list.extend(answer)\n",
    "    # test_submission.loc[(i-1)*168:(i*168)-1, \"num_date_time\"] = train[\"num_date_time\"].values\n",
    "    # num_list.extend(train[\"num_date_time\"])\n",
    "    smape_list.append(smape_data)\n",
    "print(f\"SMAPE score is {sum(smape_list)/100}\")"
   ],
   "metadata": {
    "collapsed": false
   }
  },
  {
   "cell_type": "code",
   "execution_count": null,
   "outputs": [],
   "source": [
    "print(f\"The Last SMAPE score is {sum(smape_list)/100}\")"
   ],
   "metadata": {
    "collapsed": false
   }
  },
  {
   "cell_type": "code",
   "execution_count": null,
   "outputs": [],
   "source": [
    "# Banyla RandomForest\n",
    "print(f\"The Best SMAPE score is {sum(smape_list)/100}(Banyla RandomForest)\")"
   ],
   "metadata": {
    "collapsed": false
   }
  }
 ],
 "metadata": {
  "kernelspec": {
   "display_name": "Python 3",
   "language": "python",
   "name": "python3"
  },
  "language_info": {
   "codemirror_mode": {
    "name": "ipython",
    "version": 2
   },
   "file_extension": ".py",
   "mimetype": "text/x-python",
   "name": "python",
   "nbconvert_exporter": "python",
   "pygments_lexer": "ipython2",
   "version": "2.7.6"
  }
 },
 "nbformat": 4,
 "nbformat_minor": 0
}

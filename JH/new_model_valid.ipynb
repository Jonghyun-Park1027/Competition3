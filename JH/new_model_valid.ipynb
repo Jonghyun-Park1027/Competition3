{
 "cells": [
  {
   "cell_type": "code",
   "execution_count": 1,
   "outputs": [
    {
     "name": "stderr",
     "output_type": "stream",
     "text": [
      "Importing plotly failed. Interactive plots will not work.\n"
     ]
    }
   ],
   "source": [
    "import os\n",
    "import random\n",
    "import pandas as pd\n",
    "import numpy as np\n",
    "from sklearn.preprocessing import StandardScaler, MinMaxScaler, LabelEncoder\n",
    "from sklearn.model_selection import train_test_split\n",
    "from sklearn.linear_model import LinearRegression\n",
    "from sklearn.neighbors import KNeighborsRegressor\n",
    "from sklearn.cluster import KMeans\n",
    "from sklearn.tree import DecisionTreeRegressor\n",
    "from sklearn.ensemble import RandomForestRegressor, GradientBoostingRegressor\n",
    "from xgboost import XGBRegressor\n",
    "from sklearn.metrics import mean_absolute_error as MAE\n",
    "from sklearn.metrics import mean_squared_error as MSE\n",
    "from sklearn.metrics import mean_squared_log_error as MSLE\n",
    "from tqdm.auto import tqdm\n",
    "from prophet.plot import add_changepoints_to_plot, plot_seasonality\n",
    "from prophet import Prophet\n",
    "import koreanize_matplotlib"
   ],
   "metadata": {
    "collapsed": false,
    "ExecuteTime": {
     "end_time": "2023-08-25T04:13:04.989373100Z",
     "start_time": "2023-08-25T04:13:02.707824100Z"
    }
   }
  },
  {
   "cell_type": "code",
   "execution_count": 2,
   "outputs": [],
   "source": [
    "\n",
    "def seed_everything(seed):\n",
    "    random.seed(seed)\n",
    "    os.environ['PYTHONHASHSEED'] = str(seed)\n",
    "    np.random.seed(seed)\n",
    "\n",
    "\n",
    "seed_everything(0)  # Seed 고정\n",
    "building_df = pd.read_csv('building_info.csv')\n",
    "train_df = pd.read_csv('train.csv')\n",
    "test_df = pd.read_csv('test.csv')\n"
   ],
   "metadata": {
    "collapsed": false,
    "ExecuteTime": {
     "end_time": "2023-08-25T04:13:05.168696100Z",
     "start_time": "2023-08-25T04:13:04.992888800Z"
    }
   }
  },
  {
   "cell_type": "code",
   "execution_count": 3,
   "outputs": [],
   "source": [
    "building_df['태양광용량(kW)'] = building_df['태양광용량(kW)'].replace('-', 0).astype(float)\n",
    "building_df['ESS저장용량(kWh)'] = building_df['ESS저장용량(kWh)'].replace('-', 0).astype(float)\n",
    "building_df['PCS용량(kW)'] = building_df['PCS용량(kW)'].replace('-', 0).astype(float)"
   ],
   "metadata": {
    "collapsed": false,
    "ExecuteTime": {
     "end_time": "2023-08-25T04:13:05.174064900Z",
     "start_time": "2023-08-25T04:13:05.170697700Z"
    }
   }
  },
  {
   "cell_type": "code",
   "execution_count": 4,
   "outputs": [],
   "source": [
    "train_df = train_df.merge(building_df, on=\"건물번호\", how=\"left\")\n",
    "test_df = test_df.merge(building_df, on=\"건물번호\", how=\"left\")\n",
    "train_df = train_df.drop(columns = [\"일조(hr)\" , \"일사(MJ/m2)\"], axis=1)\n",
    "# test_df = test_df.drop(columns = [\"일조(hr)\" , \"일사(MJ/m2)\"], axis=1)"
   ],
   "metadata": {
    "collapsed": false,
    "ExecuteTime": {
     "end_time": "2023-08-25T04:13:05.220432700Z",
     "start_time": "2023-08-25T04:13:05.175064700Z"
    }
   }
  },
  {
   "cell_type": "code",
   "execution_count": 5,
   "outputs": [
    {
     "name": "stderr",
     "output_type": "stream",
     "text": [
      "C:\\Users\\ppjjh\\AppData\\Local\\Temp\\ipykernel_73388\\141639945.py:61: FutureWarning: In a future version of pandas all arguments of DataFrame.pivot will be keyword-only.\n",
      "  by_weekday = train_df.groupby(['b_num','weekday'])['power'].median().reset_index().pivot('b_num','weekday','power').reset_index()\n",
      "C:\\Users\\ppjjh\\AppData\\Local\\Temp\\ipykernel_73388\\141639945.py:62: FutureWarning: In a future version of pandas all arguments of DataFrame.pivot will be keyword-only.\n",
      "  by_hour = train_df.groupby(['b_num','hour'])['power'].median().reset_index().pivot('b_num','hour','power').reset_index().drop('b_num', axis = 1)\n",
      "C:\\Users\\ppjjh\\anaconda3\\envs\\torch2\\Lib\\site-packages\\sklearn\\cluster\\_kmeans.py:1412: FutureWarning: The default value of `n_init` will change from 10 to 'auto' in 1.4. Set the value of `n_init` explicitly to suppress the warning\n",
      "  super()._check_params_vs_input(X, default_n_init=10)\n",
      "C:\\Users\\ppjjh\\anaconda3\\envs\\torch2\\Lib\\site-packages\\sklearn\\cluster\\_kmeans.py:1436: UserWarning: KMeans is known to have a memory leak on Windows with MKL, when there are less chunks than available threads. You can avoid it by setting the environment variable OMP_NUM_THREADS=1.\n",
      "  warnings.warn(\n"
     ]
    },
    {
     "data": {
      "text/plain": "   num_date_time  b_num                  ds  temp  precip  w_s   hum        y  \\\n0  1_20220601 00      1 2022-06-01 00:00:00  18.6     0.0  0.9  42.0  1085.28   \n1  1_20220601 01      1 2022-06-01 01:00:00  18.0     0.0  1.1  45.0  1047.36   \n2  1_20220601 02      1 2022-06-01 02:00:00  17.7     0.0  1.5  45.0   974.88   \n3  1_20220601 03      1 2022-06-01 03:00:00  16.7     0.0  1.4  48.0   953.76   \n4  1_20220601 04      1 2022-06-01 04:00:00  18.4     0.0  2.8  43.0   986.40   \n\n   b_type  f_area  ...  sin_time  cos_time       THI   CDH  km_cluster  km_0  \\\n0       0      59  ...  0.000000  1.000000  63.09388  -7.4           0     1   \n1       0      59  ...  0.258819  0.965926  62.46400 -15.4           0     1   \n2       0      59  ...  0.500000  0.866025  62.08735 -23.7           0     1   \n3       0      59  ...  0.707107  0.707107  60.89884 -33.0           0     1   \n4       0      59  ...  0.866025  0.500000  62.88788 -40.6           0     1   \n\n   km_1  km_2  km_3  km_4  \n0     0     0     0     0  \n1     0     0     0     0  \n2     0     0     0     0  \n3     0     0     0     0  \n4     0     0     0     0  \n\n[5 rows x 30 columns]",
      "text/html": "<div>\n<style scoped>\n    .dataframe tbody tr th:only-of-type {\n        vertical-align: middle;\n    }\n\n    .dataframe tbody tr th {\n        vertical-align: top;\n    }\n\n    .dataframe thead th {\n        text-align: right;\n    }\n</style>\n<table border=\"1\" class=\"dataframe\">\n  <thead>\n    <tr style=\"text-align: right;\">\n      <th></th>\n      <th>num_date_time</th>\n      <th>b_num</th>\n      <th>ds</th>\n      <th>temp</th>\n      <th>precip</th>\n      <th>w_s</th>\n      <th>hum</th>\n      <th>y</th>\n      <th>b_type</th>\n      <th>f_area</th>\n      <th>...</th>\n      <th>sin_time</th>\n      <th>cos_time</th>\n      <th>THI</th>\n      <th>CDH</th>\n      <th>km_cluster</th>\n      <th>km_0</th>\n      <th>km_1</th>\n      <th>km_2</th>\n      <th>km_3</th>\n      <th>km_4</th>\n    </tr>\n  </thead>\n  <tbody>\n    <tr>\n      <th>0</th>\n      <td>1_20220601 00</td>\n      <td>1</td>\n      <td>2022-06-01 00:00:00</td>\n      <td>18.6</td>\n      <td>0.0</td>\n      <td>0.9</td>\n      <td>42.0</td>\n      <td>1085.28</td>\n      <td>0</td>\n      <td>59</td>\n      <td>...</td>\n      <td>0.000000</td>\n      <td>1.000000</td>\n      <td>63.09388</td>\n      <td>-7.4</td>\n      <td>0</td>\n      <td>1</td>\n      <td>0</td>\n      <td>0</td>\n      <td>0</td>\n      <td>0</td>\n    </tr>\n    <tr>\n      <th>1</th>\n      <td>1_20220601 01</td>\n      <td>1</td>\n      <td>2022-06-01 01:00:00</td>\n      <td>18.0</td>\n      <td>0.0</td>\n      <td>1.1</td>\n      <td>45.0</td>\n      <td>1047.36</td>\n      <td>0</td>\n      <td>59</td>\n      <td>...</td>\n      <td>0.258819</td>\n      <td>0.965926</td>\n      <td>62.46400</td>\n      <td>-15.4</td>\n      <td>0</td>\n      <td>1</td>\n      <td>0</td>\n      <td>0</td>\n      <td>0</td>\n      <td>0</td>\n    </tr>\n    <tr>\n      <th>2</th>\n      <td>1_20220601 02</td>\n      <td>1</td>\n      <td>2022-06-01 02:00:00</td>\n      <td>17.7</td>\n      <td>0.0</td>\n      <td>1.5</td>\n      <td>45.0</td>\n      <td>974.88</td>\n      <td>0</td>\n      <td>59</td>\n      <td>...</td>\n      <td>0.500000</td>\n      <td>0.866025</td>\n      <td>62.08735</td>\n      <td>-23.7</td>\n      <td>0</td>\n      <td>1</td>\n      <td>0</td>\n      <td>0</td>\n      <td>0</td>\n      <td>0</td>\n    </tr>\n    <tr>\n      <th>3</th>\n      <td>1_20220601 03</td>\n      <td>1</td>\n      <td>2022-06-01 03:00:00</td>\n      <td>16.7</td>\n      <td>0.0</td>\n      <td>1.4</td>\n      <td>48.0</td>\n      <td>953.76</td>\n      <td>0</td>\n      <td>59</td>\n      <td>...</td>\n      <td>0.707107</td>\n      <td>0.707107</td>\n      <td>60.89884</td>\n      <td>-33.0</td>\n      <td>0</td>\n      <td>1</td>\n      <td>0</td>\n      <td>0</td>\n      <td>0</td>\n      <td>0</td>\n    </tr>\n    <tr>\n      <th>4</th>\n      <td>1_20220601 04</td>\n      <td>1</td>\n      <td>2022-06-01 04:00:00</td>\n      <td>18.4</td>\n      <td>0.0</td>\n      <td>2.8</td>\n      <td>43.0</td>\n      <td>986.40</td>\n      <td>0</td>\n      <td>59</td>\n      <td>...</td>\n      <td>0.866025</td>\n      <td>0.500000</td>\n      <td>62.88788</td>\n      <td>-40.6</td>\n      <td>0</td>\n      <td>1</td>\n      <td>0</td>\n      <td>0</td>\n      <td>0</td>\n      <td>0</td>\n    </tr>\n  </tbody>\n</table>\n<p>5 rows × 30 columns</p>\n</div>"
     },
     "execution_count": 5,
     "metadata": {},
     "output_type": "execute_result"
    }
   ],
   "source": [
    "train_df.rename(columns={\"num_date_time\" : \"num_date_time\", \"건물번호\":\"b_num\", \"일시\" : \"D&T\", \"기온(C)\" : \"temp\", \"강수량(mm)\" : \"precip\", \"풍속(m/s)\" : \"w_s\" , \"습도(%)\" : \"hum\", \"전력소비량(kWh)\":\"power\", \"건물유형\":\"b_type\", \"연면적(m2)\":\"f_area\", \"냉방면적(m2)\":\"c_area\", \"태양광용량(kW)\": \"SUN_light\", \"ESS저장용량(kWh)\": \"ESS_save\", \"PCS용량(kW)\":\"PCS\" }, inplace=True)\n",
    "test_df.rename(columns={\"num_date_time\" : \"num_date_time\", \"건물번호\":\"b_num\", \"일시\" : \"D&T\", \"기온(C)\" : \"temp\", \"강수량(mm)\" : \"precip\", \"풍속(m/s)\" : \"w_s\" , \"습도(%)\" : \"hum\", \"전력소비량(kWh)\":\"power\", \"건물유형\":\"b_type\", \"연면적(m2)\":\"f_area\", \"냉방면적(m2)\":\"c_area\", \"태양광용량(kW)\": \"SUN_light\", \"ESS저장용량(kWh)\": \"ESS_save\", \"PCS용량(kW)\":\"PCS\"} , inplace= True)\n",
    "\n",
    "# 선형보간 실시\n",
    "train_df[\"w_s\"] = train_df[\"w_s\"].interpolate()\n",
    "train_df[\"hum\"] = train_df[\"hum\"].interpolate()\n",
    "train_df.loc[train_df[\"w_s\"]<0] = 0\n",
    "train_df.loc[train_df[\"hum\"]<0] = 0\n",
    "# 소수점 단위 절삭\n",
    "train_df[\"c_area\"] = train_df[\"c_area\"].round(4)\n",
    "train_df[\"f_area\"] = train_df[\"f_area\"].round(4)\n",
    "\n",
    "lf = LabelEncoder()\n",
    "train_df[\"c_area\"] = lf.fit_transform(train_df[\"c_area\"])\n",
    "train_df[\"f_area\"] = lf.fit_transform(train_df[\"f_area\"])\n",
    "train_df[\"b_type\"] = lf.fit_transform(train_df[\"b_type\"])\n",
    "train_df = train_df.fillna(0)\n",
    "\n",
    "def CDH(xs):\n",
    "    ys = []\n",
    "    for i in range(len(xs)):\n",
    "        if i < 11:\n",
    "            ys.append(np.sum(xs[:(i+1)]-26))\n",
    "        else:\n",
    "            ys.append(np.sum(xs[(i-11):(i+1)]-26))\n",
    "    return np.array(ys)\n",
    "def is_weekend(ds):\n",
    "    date = pd.to_datetime(ds)\n",
    "    if date.weekday() >= 5:\n",
    "        return 1\n",
    "    else:\n",
    "        return 0\n",
    "def is_noon(ds):\n",
    "    date = pd.to_datetime(ds)\n",
    "    if date.hour >= 7 and date.hour<20:\n",
    "        return 1\n",
    "    else:\n",
    "        return 0\n",
    "# 파생변수 생성 (train data)\n",
    "train_df['D&T'] = pd.to_datetime(train_df['D&T'])\n",
    "# train_df['month'] = train_df['num_date_time'].apply(lambda x : int(x[4:6]))\n",
    "train_df['day'] = train_df['D&T'].dt.day\n",
    "train_df['month'] = train_df['D&T'].dt.month\n",
    "train_df['hour'] = train_df['D&T'].dt.hour\n",
    "train_df['weekend'] = train_df['D&T'].apply(is_weekend)\n",
    "train_df['noon'] = train_df['D&T'].apply(is_noon)\n",
    "train_df['weekday'] = train_df['D&T'].dt.weekday\n",
    "train_df['sin_time'] = np.sin(2*np.pi*train_df.hour/24)\n",
    "train_df['cos_time'] = np.cos(2*np.pi*train_df.hour/24)\n",
    "train_df['THI'] = 9/5*train_df['temp'] - 0.55*(1-train_df['hum']/100)*(9/5*train_df['temp']-26)+32\n",
    "\n",
    "cdhs = np.array([])\n",
    "for num in range(1,101,1):\n",
    "    temp = train_df[train_df['b_num'] == num]\n",
    "    cdh = CDH(temp['temp'].values)\n",
    "    cdhs = np.concatenate([cdhs, cdh])\n",
    "\n",
    "train_df['CDH'] = cdhs\n",
    "# train_df.drop(\"D&T\", axis =1 , inplace=True)\n",
    "# K-Means > train data\n",
    "by_weekday = train_df.groupby(['b_num','weekday'])['power'].median().reset_index().pivot('b_num','weekday','power').reset_index()\n",
    "by_hour = train_df.groupby(['b_num','hour'])['power'].median().reset_index().pivot('b_num','hour','power').reset_index().drop('b_num', axis = 1)\n",
    "\n",
    "df = pd.concat([by_weekday, by_hour], axis= 1)\n",
    "columns = ['b_num'] + ['weekday'+str(i) for i in range(7)] + ['hour'+str(i) for i in range(24)]\n",
    "df.columns = columns\n",
    "kmeans = KMeans(n_clusters=5, random_state = 42)\n",
    "km_cluster = kmeans.fit_predict(df.iloc[:,1:])\n",
    "\n",
    "df_clust = df.copy()\n",
    "df_clust['km_cluster'] = km_cluster\n",
    "# df_clust['km_cluster'] = df_clust['km_cluster'].map({})\n",
    "\n",
    "train_df = train_df.merge(df_clust[['b_num','km_cluster']], on='b_num', how='left')\n",
    "km_d = pd.get_dummies(train_df['km_cluster'], prefix='km', drop_first=False)\n",
    "\n",
    "train_df = pd.concat([train_df, km_d], axis=1)\n",
    "# prophet 형태로 전환\n",
    "train_df.rename(columns={\"D&T\": \"ds\", \"power\": \"y\"}, inplace=True)\n",
    "\n",
    "train_df[\"b_type\"] = lf.fit_transform(train_df[\"b_type\"])\n",
    "train_df.head()"
   ],
   "metadata": {
    "collapsed": false,
    "ExecuteTime": {
     "end_time": "2023-08-25T04:13:07.462551700Z",
     "start_time": "2023-08-25T04:13:05.228949Z"
    }
   }
  },
  {
   "cell_type": "code",
   "execution_count": 6,
   "outputs": [],
   "source": [
    "def get_score_splited_train(model, xtrain, xtest, ytrain, ytest):\n",
    "    A = model.score(xtrain, ytrain)\n",
    "    B = model.score(xtest,ytest)\n",
    "    pred = model.predict(xtest)\n",
    "    C = SMAPE(ytest, pred)\n",
    "\n",
    "    print(f\"ACC train : {A:.4f}, test : {B:.4f}, SMAPE : {C:.4f}\" )\n",
    "def SMAPE(true, pred):\n",
    "    return np.mean((np.abs(true-pred))/(np.abs(true) + np.abs(pred))) * 100"
   ],
   "metadata": {
    "collapsed": false,
    "ExecuteTime": {
     "end_time": "2023-08-25T04:13:07.465808500Z",
     "start_time": "2023-08-25T04:13:07.462551700Z"
    }
   }
  },
  {
   "cell_type": "markdown",
   "source": [
    "## Models"
   ],
   "metadata": {
    "collapsed": false
   }
  },
  {
   "cell_type": "code",
   "execution_count": 7,
   "outputs": [],
   "source": [
    "def linear_1(x_train, y_train, x_test, y_test):\n",
    "\n",
    "    model1 = LinearRegression().fit(x_train, y_train)\n",
    "    y_pred = model1.predict(x_test)   #  y_pred -> 1D ndarray\n",
    "    y_pred = np.where(y_pred<0, -y_pred, y_pred)\n",
    "    # ValueError: Mean Squared Logarithmic Error cannot be used when targets contain negative values.\n",
    "    #RMSLE = lambda y_true, y_pred : MSLE(y_true, y_pred) ** 0.5\n",
    "    A,B,C = model1.score(x_train, y_train), model1.score(x_test, y_test), SMAPE(y_test, y_pred)\n",
    "    print(f'train_score : {A:.4f}, test_score : {B:.4f}, SMAPE : {C:.4f}')\n",
    "    return y_pred, C"
   ],
   "metadata": {
    "collapsed": false,
    "ExecuteTime": {
     "end_time": "2023-08-25T04:13:07.469575900Z",
     "start_time": "2023-08-25T04:13:07.468065800Z"
    }
   }
  },
  {
   "cell_type": "code",
   "execution_count": 8,
   "outputs": [],
   "source": [
    "def decision_1(x_train, y_train, x_test, y_test):\n",
    "    model2 = DecisionTreeRegressor(random_state = 0).fit(x_train, y_train)\n",
    "    y_pred = model2.predict(x_test)   #  y_pred -> 1D ndarray\n",
    "    y_pred = np.where(y_pred<0, -y_pred, y_pred)\n",
    "    # ValueError: Mean Squared Logarithmic Error cannot be used when targets contain negative values.\n",
    "    #RMSLE = lambda y_true, y_pred : MSLE(y_true, y_pred) ** 0.5\n",
    "    A,B,C = model2.score(x_train, y_train), model2.score(x_test, y_test), SMAPE(y_test, y_pred)\n",
    "    print(f'train_score : {A:.4f}, test_score : {B:.4f}, SMAPE : {C:.4f}')\n",
    "    return y_pred, C"
   ],
   "metadata": {
    "collapsed": false,
    "ExecuteTime": {
     "end_time": "2023-08-25T04:13:07.473850Z",
     "start_time": "2023-08-25T04:13:07.472844700Z"
    }
   }
  },
  {
   "cell_type": "code",
   "execution_count": 9,
   "outputs": [],
   "source": [
    "def RandomF_1(x_train, y_train, x_test, y_test):\n",
    "    model3 = RandomForestRegressor(random_state=0).fit(x_train, y_train)\n",
    "    y_pred = model3.predict(x_test)   #  y_pred -> 1D ndarray\n",
    "    y_pred = np.where(y_pred<0, -y_pred, y_pred)\n",
    "    # ValueError: Mean Squared Logarithmic Error cannot be used when targets contain negative values.\n",
    "    #RMSLE = lambda y_true, y_pred : MSLE(y_true, y_pred) ** 0.5\n",
    "    A,B,C = model3.score(x_train, y_train), model3.score(x_test, y_test), SMAPE(y_test, y_pred)\n",
    "    print(f'train_score : {A:.4f}, test_score : {B:.4f}, SMAPE : {C:.4f}')\n",
    "    return y_pred, C"
   ],
   "metadata": {
    "collapsed": false,
    "ExecuteTime": {
     "end_time": "2023-08-25T04:13:07.486726Z",
     "start_time": "2023-08-25T04:13:07.477596400Z"
    }
   }
  },
  {
   "cell_type": "code",
   "execution_count": 22,
   "outputs": [],
   "source": [
    "# RandomF_1 Grid\n",
    "# from sklearn.ensemble import RandomForestRegressor\n",
    "from sklearn.model_selection import GridSearchCV\n",
    "# import numpy as np\n",
    "\n",
    "# def SMAPE(y_true, y_pred):\n",
    "#     # I'm assuming that you have already defined SMAPE somewhere in your code.\n",
    "#     pass\n",
    "\n",
    "def RandomF_1_with_GridSearch(x_train, y_train, x_test, y_test):\n",
    "    # Define the hyperparameters and their possible values\n",
    "    param_grid = {\n",
    "        'n_estimators': [10, 50, 100, 200],\n",
    "        'max_depth': [None, 10, 20, 30],\n",
    "        'min_samples_split': [2, 5, 10],\n",
    "        'min_samples_leaf': [1, 2, 4]\n",
    "    }\n",
    "\n",
    "    # Create the base model\n",
    "    rf = RandomForestRegressor(random_state=0)\n",
    "\n",
    "    # Instantiate the grid search model\n",
    "    grid_search = GridSearchCV(estimator=rf, param_grid=param_grid,\n",
    "                               cv=3, n_jobs=-1, verbose=2, scoring='neg_mean_squared_error')\n",
    "\n",
    "    # Fit the grid search to the data\n",
    "    grid_search.fit(x_train, y_train)\n",
    "\n",
    "    # Use the best model from grid search to predict\n",
    "    best_rf = grid_search.best_estimator_\n",
    "    y_pred = best_rf.predict(x_test)\n",
    "\n",
    "    # Ensure no negative values for your use case\n",
    "    y_pred = np.where(y_pred < 0, -y_pred, y_pred)\n",
    "\n",
    "    A, B, C = best_rf.score(x_train, y_train), best_rf.score(x_test, y_test), SMAPE(y_test, y_pred)\n",
    "\n",
    "    print(f'Best parameters: {grid_search.best_params_}')\n",
    "    print(f'train_score : {A:.4f}, test_score : {B:.4f}, SMAPE : {C:.4f}')\n",
    "\n",
    "    return y_pred, C, best_rf\n"
   ],
   "metadata": {
    "collapsed": false,
    "ExecuteTime": {
     "end_time": "2023-08-25T05:00:47.198425900Z",
     "start_time": "2023-08-25T05:00:47.192736300Z"
    }
   }
  },
  {
   "cell_type": "code",
   "execution_count": 11,
   "outputs": [],
   "source": [
    "# CAT\n"
   ],
   "metadata": {
    "collapsed": false,
    "ExecuteTime": {
     "end_time": "2023-08-25T04:13:07.488734100Z",
     "start_time": "2023-08-25T04:13:07.486219Z"
    }
   }
  },
  {
   "cell_type": "code",
   "execution_count": 11,
   "outputs": [],
   "source": [],
   "metadata": {
    "collapsed": false,
    "ExecuteTime": {
     "end_time": "2023-08-25T04:13:07.492901Z",
     "start_time": "2023-08-25T04:13:07.489732Z"
    }
   }
  },
  {
   "cell_type": "code",
   "execution_count": 11,
   "outputs": [],
   "source": [],
   "metadata": {
    "collapsed": false,
    "ExecuteTime": {
     "end_time": "2023-08-25T04:13:07.515920Z",
     "start_time": "2023-08-25T04:13:07.493872600Z"
    }
   }
  },
  {
   "cell_type": "code",
   "execution_count": 11,
   "outputs": [],
   "source": [],
   "metadata": {
    "collapsed": false,
    "ExecuteTime": {
     "end_time": "2023-08-25T04:13:07.540448500Z",
     "start_time": "2023-08-25T04:13:07.497791100Z"
    }
   }
  },
  {
   "cell_type": "markdown",
   "source": [
    "# 데이터 결합 처리"
   ],
   "metadata": {
    "collapsed": false
   }
  },
  {
   "cell_type": "code",
   "execution_count": 12,
   "outputs": [],
   "source": [
    "# Feature Importance 추출\n",
    "train_x = train_df[[\n",
    "#                                   'num_date_time'\n",
    "#                                  ,\"y\"\n",
    "#                                  ,\"ds\",\n",
    "                                 'b_num'\n",
    "                                 # ,'temp'\n",
    "                                 # ,'precip'\n",
    "                                 # ,'w_s'\n",
    "                                 # ,'hum'\n",
    "                                 ,'b_type'\n",
    "                                 ,'f_area'\n",
    "                                 ,'c_area'\n",
    "                                 ,'SUN_light'\n",
    "                                 # ,'ESS_save'\n",
    "                                 # ,'PCS'\n",
    "                                 ,'day'\n",
    "                                 ,'month'\n",
    "                                , 'hour'\n",
    "                                , 'weekend'\n",
    "                                , 'noon'\n",
    "                                , 'weekday'\n",
    "                                , 'sin_time'\n",
    "                                , 'cos_time'\n",
    "                                , 'THI'\n",
    "                                , 'CDH'\n",
    "                                , 'km_cluster'\n",
    "                                , 'km_0'\n",
    "                                , 'km_1'\n",
    "                                , 'km_2'\n",
    "                                , 'km_3',\n",
    "                                 'km_4'\n",
    "                                 ]]\n",
    "'''\n",
    "ACC train : 0.9994, test : 0.9956, SMAPE : 2.1337\n",
    "            importance\n",
    "km_3          0.380670\n",
    "km_1          0.312507\n",
    "km_2          0.094559\n",
    "noon          0.035857\n",
    "f_area        0.021027\n",
    "c_area        0.020925\n",
    "b_num         0.015429\n",
    "cos_time      0.012944\n",
    "hour          0.011429\n",
    "km_4          0.011308\n",
    "km_cluster    0.011065\n",
    "weekday       0.010876\n",
    "THI           0.010289\n",
    "SUN_light     0.008487\n",
    "sin_time      0.008243\n",
    "b_type        0.007413\n",
    "weekend       0.007038\n",
    "km_0          0.005612\n",
    "CDH           0.004565\n",
    "day           0.002701\n",
    "month         0.001848\n",
    "# w_s           0.001426\n",
    "# temp          0.001388\n",
    "# hum           0.001095\n",
    "# PCS           0.000631\n",
    "# ESS_save      0.000546\n",
    "# precip        0.000121\n",
    "\n",
    "'''\n",
    "train_y = train_df['y']\n",
    "xtrain, xtest, ytrain, ytest = train_test_split(train_x, train_y, random_state=0)"
   ],
   "metadata": {
    "collapsed": false,
    "ExecuteTime": {
     "end_time": "2023-08-25T04:13:07.597262100Z",
     "start_time": "2023-08-25T04:13:07.501405400Z"
    }
   }
  },
  {
   "cell_type": "code",
   "execution_count": 13,
   "outputs": [],
   "source": [
    "# best_rf = RandomForestRegressor(random_state=42, bootstrap=True, max_depth=None, min_samples_leaf=1,\n",
    "#                                 min_samples_split=2, n_estimators=200)\n",
    "# best_rf.fit(xtrain, ytrain)\n",
    "# get_score_splited_train(best_rf, xtrain, xtest, ytrain, ytest)\n",
    "# prediction = best_rf.predict(xtest)\n",
    "# SMAPE(ytest, prediction)\n",
    "# feature_importances = pd.DataFrame(best_rf.feature_importances_,\n",
    "#\n",
    "#                                    index=xtrain.columns,\n",
    "#                                    columns=['importance']).sort_values('importance', ascending=False)\n",
    "# print(feature_importances)\n"
   ],
   "metadata": {
    "collapsed": false,
    "ExecuteTime": {
     "end_time": "2023-08-25T04:13:07.597262100Z",
     "start_time": "2023-08-25T04:13:07.564726300Z"
    }
   }
  },
  {
   "cell_type": "code",
   "execution_count": 14,
   "outputs": [],
   "source": [
    "# linear_1(xtrain,ytrain,xtest,ytest)"
   ],
   "metadata": {
    "collapsed": false,
    "ExecuteTime": {
     "end_time": "2023-08-25T04:13:07.597262100Z",
     "start_time": "2023-08-25T04:13:07.565726800Z"
    }
   }
  },
  {
   "cell_type": "code",
   "execution_count": 15,
   "outputs": [],
   "source": [
    "# decision_1(xtrain,ytrain,xtest,ytest)"
   ],
   "metadata": {
    "collapsed": false,
    "ExecuteTime": {
     "end_time": "2023-08-25T04:13:07.597262100Z",
     "start_time": "2023-08-25T04:13:07.565726800Z"
    }
   }
  },
  {
   "cell_type": "code",
   "execution_count": 16,
   "outputs": [
    {
     "name": "stdout",
     "output_type": "stream",
     "text": [
      "train_score : 0.9994, test_score : 0.9958, SMAPE : 2.0324\n"
     ]
    },
    {
     "data": {
      "text/plain": "(array([3132.2394,  796.9272, 3488.2818, ..., 4590.2916, 4406.0544,\n        3529.3266]),\n 2.032365541296283)"
     },
     "execution_count": 16,
     "metadata": {},
     "output_type": "execute_result"
    }
   ],
   "source": [
    "# TODO : pipeline 만들기\n",
    "# Gridsearch 적용하기\n",
    "RandomF_1(xtrain,ytrain,xtest,ytest)"
   ],
   "metadata": {
    "collapsed": false,
    "ExecuteTime": {
     "end_time": "2023-08-25T04:15:34.583374400Z",
     "start_time": "2023-08-25T04:13:07.570788800Z"
    }
   }
  },
  {
   "cell_type": "code",
   "execution_count": 23,
   "outputs": [
    {
     "name": "stdout",
     "output_type": "stream",
     "text": [
      "Fitting 3 folds for each of 144 candidates, totalling 432 fits\n",
      "Best parameters: {'max_depth': None, 'min_samples_leaf': 1, 'min_samples_split': 2, 'n_estimators': 200}\n",
      "train_score : 0.9994, test_score : 0.9958, SMAPE : 2.0289\n"
     ]
    }
   ],
   "source": [
    " y_pred, C, best_rf = RandomF_1_with_GridSearch(xtrain,ytrain,xtest,ytest)"
   ],
   "metadata": {
    "collapsed": false,
    "ExecuteTime": {
     "end_time": "2023-08-25T05:47:04.975371800Z",
     "start_time": "2023-08-25T05:00:55.987856500Z"
    }
   }
  },
  {
   "cell_type": "code",
   "execution_count": 27,
   "outputs": [
    {
     "data": {
      "text/plain": "{'bootstrap': True,\n 'ccp_alpha': 0.0,\n 'criterion': 'squared_error',\n 'max_depth': None,\n 'max_features': 1.0,\n 'max_leaf_nodes': None,\n 'max_samples': None,\n 'min_impurity_decrease': 0.0,\n 'min_samples_leaf': 1,\n 'min_samples_split': 2,\n 'min_weight_fraction_leaf': 0.0,\n 'n_estimators': 200,\n 'n_jobs': None,\n 'oob_score': False,\n 'random_state': 0,\n 'verbose': 0,\n 'warm_start': False}"
     },
     "execution_count": 27,
     "metadata": {},
     "output_type": "execute_result"
    }
   ],
   "source": [
    "'''best_rf.get_params()\n",
    "{'bootstrap': True,\n",
    " 'ccp_alpha': 0.0,\n",
    " 'criterion': 'squared_error',\n",
    " 'max_depth': None,\n",
    " 'max_features': 1.0,\n",
    " 'max_leaf_nodes': None,\n",
    " 'max_samples': None,\n",
    " 'min_impurity_decrease': 0.0,\n",
    " 'min_samples_leaf': 1,\n",
    " 'min_samples_split': 2,\n",
    " 'min_weight_fraction_leaf': 0.0,\n",
    " 'n_estimators': 200,\n",
    " 'n_jobs': None,\n",
    " 'oob_score': False,\n",
    " 'random_state': 0,\n",
    " 'verbose': 0,\n",
    " 'warm_start': False}'''"
   ],
   "metadata": {
    "collapsed": false,
    "ExecuteTime": {
     "end_time": "2023-08-25T06:03:29.962310500Z",
     "start_time": "2023-08-25T06:03:29.956205100Z"
    }
   }
  },
  {
   "cell_type": "code",
   "execution_count": 25,
   "outputs": [
    {
     "name": "stdout",
     "output_type": "stream",
     "text": [
      "1.3.0\n"
     ]
    }
   ],
   "source": [
    "# 2.0508181481235193\n",
    "import sklearn\n",
    "print(sklearn.__version__)"
   ],
   "metadata": {
    "collapsed": false,
    "ExecuteTime": {
     "end_time": "2023-08-25T05:47:04.984648400Z",
     "start_time": "2023-08-25T05:47:04.982645200Z"
    }
   }
  },
  {
   "cell_type": "markdown",
   "source": [
    "# Data 개별 처리"
   ],
   "metadata": {
    "collapsed": false
   }
  },
  {
   "cell_type": "code",
   "execution_count": null,
   "outputs": [],
   "source": [
    "# Feature Importance 추출\n",
    "train_df = train_df[[\n",
    "\n",
    "                                      # 'num_date_time'\n",
    "                                 \"y\"\n",
    "#                                  ,\"ds\",\n",
    "                                 ,'b_num'\n",
    "                                 ,'temp'\n",
    "                                 # ,'precip'\n",
    "                                 ,'w_s'\n",
    "                                 ,'hum'\n",
    "                                 ,'b_type'\n",
    "                                 ,'f_area'\n",
    "                                 ,'c_area'\n",
    "                                 ,'SUN_light'\n",
    "                                 ,'ESS_save'\n",
    "                                 ,'PCS'\n",
    "                                 ,'day'\n",
    "                                 ,'month'\n",
    "                                , 'hour'\n",
    "                                , 'weekend'\n",
    "                                , 'noon'\n",
    "                                , 'weekday'\n",
    "                                , 'sin_time'\n",
    "                                , 'cos_time'\n",
    "                                , 'THI'\n",
    "                                , 'CDH'\n",
    "                                , 'km_cluster'\n",
    "                                , 'km_0'\n",
    "                                , 'km_1'\n",
    "                                , 'km_2'\n",
    "                                , 'km_3',\n",
    "                                 'km_4'\n",
    "                                 ]]\n"
   ],
   "metadata": {
    "collapsed": false,
    "ExecuteTime": {
     "start_time": "2023-08-25T04:59:17.012477100Z"
    }
   }
  },
  {
   "cell_type": "code",
   "execution_count": null,
   "outputs": [],
   "source": [
    "test_submission = pd.DataFrame(columns=['num_date_time', 'answer'])\n",
    "# 나머지 0처리\n",
    "\n",
    "holidays = pd.DataFrame(columns=['holiday', 'ds'])\n",
    "# holidays[\"lower_window\"] = 1\n",
    "# holidays[\"upper_window\"] = 1\n",
    "smape_list = []\n",
    "answer_list = []\n",
    "# num_list = []\n",
    "for i in tqdm(range(1,101)):\n",
    "    # 한건물당 168개씩 예측한다\n",
    "    train = train_df.loc[(train_df[\"b_num\"] == i), ][:-168]\n",
    "    test = train_df.loc[(train_df[\"b_num\"] == i), ][-168:].reset_index(drop=True)\n",
    "    # p_train = train.drop(columns= [\"num_date_time\"])\n",
    "    x_train = train.drop(columns= \"y\")\n",
    "    y_train = train[\"y\"]\n",
    "    x_test = test.drop(columns= \"y\")\n",
    "    # p_test = test.drop(columns= [\"num_date_time\"])\n",
    "    y_test = test[\"y\"]\n",
    "    answer , smape_data = RandomF_1(x_train,y_train, x_test, y_test)\n",
    "    # test_submission[\"answer\"]= pd.concat([test_submission[\"answer\"], pd.Series(answer)], axis = 0 ).reset_index(drop=True)\n",
    "    answer_list.extend(answer)\n",
    "    # test_submission.loc[(i-1)*168:(i*168)-1, \"num_date_time\"] = train[\"num_date_time\"].values\n",
    "    # num_list.extend(train[\"num_date_time\"])\n",
    "    smape_list.append(smape_data)\n",
    "print(f\"SMAPE score is {sum(smape_list)/100}\")"
   ],
   "metadata": {
    "collapsed": false
   }
  },
  {
   "cell_type": "code",
   "execution_count": null,
   "outputs": [],
   "source": [
    "print(f\"The Last SMAPE score is {sum(smape_list)/100}\")"
   ],
   "metadata": {
    "collapsed": false
   }
  },
  {
   "cell_type": "code",
   "execution_count": null,
   "outputs": [],
   "source": [
    "# Banyla RandomForest\n",
    "print(f\"The Best SMAPE score is {sum(smape_list)/100}(Banyla RandomForest)\")"
   ],
   "metadata": {
    "collapsed": false
   }
  },
  {
   "cell_type": "code",
   "execution_count": null,
   "outputs": [],
   "source": [
    "test_submission = pd.DataFrame(columns=['num_date_time', 'answer'])\n",
    "# 나머지 0처리\n",
    "\n",
    "holidays = pd.DataFrame(columns=['holiday', 'ds'])\n",
    "# holidays[\"lower_window\"] = 1\n",
    "# holidays[\"upper_window\"] = 1\n",
    "smape_list = []\n",
    "answer_list = []\n",
    "# num_list = []\n",
    "for i in tqdm(range(1,101)):\n",
    "    # 한건물당 168개씩 예측한다\n",
    "    train = train_df.loc[(train_df[\"b_num\"] == i), ][:-168]\n",
    "    test = train_df.loc[(train_df[\"b_num\"] == i), ][-168:].reset_index(drop=True)\n",
    "    # p_train = train.drop(columns= [\"num_date_time\"])\n",
    "    x_train = train.drop(columns= \"y\")\n",
    "    y_train = train[\"y\"]\n",
    "    x_test = test.drop(columns= \"y\")\n",
    "    # p_test = test.drop(columns= [\"num_date_time\"])\n",
    "    y_test = test[\"y\"]\n",
    "    answer , smape_data = RandomF_1_with_GridSearch(x_train,y_train, x_test, y_test)\n",
    "    # test_submission[\"answer\"]= pd.concat([test_submission[\"answer\"], pd.Series(answer)], axis = 0 ).reset_index(drop=True)\n",
    "    answer_list.extend(answer)\n",
    "    # test_submission.loc[(i-1)*168:(i*168)-1, \"num_date_time\"] = train[\"num_date_time\"].values\n",
    "    # num_list.extend(train[\"num_date_time\"])\n",
    "    smape_list.append(smape_data)\n",
    "print(f\"SMAPE score is {sum(smape_list)/100}\")"
   ],
   "metadata": {
    "collapsed": false
   }
  },
  {
   "cell_type": "code",
   "execution_count": null,
   "outputs": [],
   "source": [
    "print(f\"The Last SMAPE score is {sum(smape_list)/100}\")"
   ],
   "metadata": {
    "collapsed": false
   }
  }
 ],
 "metadata": {
  "kernelspec": {
   "display_name": "Python 3",
   "language": "python",
   "name": "python3"
  },
  "language_info": {
   "codemirror_mode": {
    "name": "ipython",
    "version": 2
   },
   "file_extension": ".py",
   "mimetype": "text/x-python",
   "name": "python",
   "nbconvert_exporter": "python",
   "pygments_lexer": "ipython2",
   "version": "2.7.6"
  }
 },
 "nbformat": 4,
 "nbformat_minor": 0
}

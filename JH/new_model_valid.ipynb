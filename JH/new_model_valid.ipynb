{
 "cells": [
  {
   "cell_type": "markdown",
   "source": [
    "# Data 개별 처리"
   ],
   "metadata": {
    "collapsed": false
   }
  },
  {
   "cell_type": "code",
   "execution_count": 176,
   "outputs": [],
   "source": [
    "import os\n",
    "import random\n",
    "import pandas as pd\n",
    "import numpy as np\n",
    "from sklearn.preprocessing import StandardScaler, MinMaxScaler, LabelEncoder\n",
    "from sklearn.model_selection import train_test_split\n",
    "from sklearn.linear_model import LinearRegression\n",
    "from sklearn.neighbors import KNeighborsRegressor\n",
    "from sklearn.cluster import KMeans\n",
    "from sklearn.tree import DecisionTreeRegressor\n",
    "from sklearn.ensemble import RandomForestRegressor, GradientBoostingRegressor\n",
    "from xgboost import XGBRegressor\n",
    "from sklearn.metrics import mean_absolute_error as MAE\n",
    "from sklearn.metrics import mean_squared_error as MSE\n",
    "from sklearn.metrics import mean_squared_log_error as MSLE\n",
    "from tqdm.auto import tqdm\n",
    "from prophet.plot import add_changepoints_to_plot, plot_seasonality\n",
    "from prophet import Prophet\n",
    "import koreanize_matplotlib"
   ],
   "metadata": {
    "collapsed": false,
    "ExecuteTime": {
     "end_time": "2023-08-21T07:45:03.063084700Z",
     "start_time": "2023-08-21T07:45:03.036584700Z"
    }
   }
  },
  {
   "cell_type": "code",
   "execution_count": 108,
   "outputs": [],
   "source": [
    "\n",
    "def seed_everything(seed):\n",
    "    random.seed(seed)\n",
    "    os.environ['PYTHONHASHSEED'] = str(seed)\n",
    "    np.random.seed(seed)\n",
    "\n",
    "\n",
    "seed_everything(42)  # Seed 고정\n",
    "building_df = pd.read_csv('building_info.csv')\n",
    "train_df = pd.read_csv('train.csv')\n",
    "test_df = pd.read_csv('test.csv')\n"
   ],
   "metadata": {
    "collapsed": false,
    "ExecuteTime": {
     "end_time": "2023-08-21T06:53:20.949859400Z",
     "start_time": "2023-08-21T06:53:20.801716600Z"
    }
   }
  },
  {
   "cell_type": "code",
   "execution_count": 109,
   "outputs": [],
   "source": [
    "building_df['태양광용량(kW)'] = building_df['태양광용량(kW)'].replace('-', 0).astype(float)\n",
    "building_df['ESS저장용량(kWh)'] = building_df['ESS저장용량(kWh)'].replace('-', 0).astype(float)\n",
    "building_df['PCS용량(kW)'] = building_df['PCS용량(kW)'].replace('-', 0).astype(float)"
   ],
   "metadata": {
    "collapsed": false,
    "ExecuteTime": {
     "end_time": "2023-08-21T06:53:21.029206Z",
     "start_time": "2023-08-21T06:53:21.018622Z"
    }
   }
  },
  {
   "cell_type": "code",
   "execution_count": 110,
   "outputs": [],
   "source": [
    "train_df = train_df.merge(building_df, on=\"건물번호\", how=\"left\")\n",
    "test_df = test_df.merge(building_df, on=\"건물번호\", how=\"left\")\n",
    "train_df = train_df.drop(columns = [\"일조(hr)\" , \"일사(MJ/m2)\"], axis=1)\n",
    "# test_df = test_df.drop(columns = [\"일조(hr)\" , \"일사(MJ/m2)\"], axis=1)"
   ],
   "metadata": {
    "collapsed": false,
    "ExecuteTime": {
     "end_time": "2023-08-21T06:53:21.402896400Z",
     "start_time": "2023-08-21T06:53:21.346725900Z"
    }
   }
  },
  {
   "cell_type": "code",
   "execution_count": 111,
   "outputs": [
    {
     "name": "stderr",
     "output_type": "stream",
     "text": [
      "C:\\Users\\ppjjh\\AppData\\Local\\Temp\\ipykernel_126904\\4112407973.py:59: FutureWarning: In a future version of pandas all arguments of DataFrame.pivot will be keyword-only.\n",
      "  by_weekday = train_df.groupby(['b_num','weekday'])['power'].median().reset_index().pivot('b_num','weekday','power').reset_index()\n",
      "C:\\Users\\ppjjh\\AppData\\Local\\Temp\\ipykernel_126904\\4112407973.py:60: FutureWarning: In a future version of pandas all arguments of DataFrame.pivot will be keyword-only.\n",
      "  by_hour = train_df.groupby(['b_num','hour'])['power'].median().reset_index().pivot('b_num','hour','power').reset_index().drop('b_num', axis = 1)\n",
      "C:\\Users\\ppjjh\\anaconda3\\envs\\torch2\\Lib\\site-packages\\sklearn\\cluster\\_kmeans.py:870: FutureWarning: The default value of `n_init` will change from 10 to 'auto' in 1.4. Set the value of `n_init` explicitly to suppress the warning\n",
      "  warnings.warn(\n",
      "C:\\Users\\ppjjh\\anaconda3\\envs\\torch2\\Lib\\site-packages\\sklearn\\cluster\\_kmeans.py:1382: UserWarning: KMeans is known to have a memory leak on Windows with MKL, when there are less chunks than available threads. You can avoid it by setting the environment variable OMP_NUM_THREADS=1.\n",
      "  warnings.warn(\n"
     ]
    },
    {
     "data": {
      "text/plain": "   num_date_time  b_num                  ds  temp  precip  w_s   hum        y  \\\n0  1_20220601 00      1 2022-06-01 00:00:00  18.6     0.0  0.9  42.0  1085.28   \n1  1_20220601 01      1 2022-06-01 01:00:00  18.0     0.0  1.1  45.0  1047.36   \n2  1_20220601 02      1 2022-06-01 02:00:00  17.7     0.0  1.5  45.0   974.88   \n3  1_20220601 03      1 2022-06-01 03:00:00  16.7     0.0  1.4  48.0   953.76   \n4  1_20220601 04      1 2022-06-01 04:00:00  18.4     0.0  2.8  43.0   986.40   \n\n   b_type  f_area  ...  sin_time  cos_time       THI   CDH  km_cluster  km_0  \\\n0       0      59  ...  0.000000  1.000000  63.09388  -7.4           0     1   \n1       0      59  ...  0.258819  0.965926  62.46400 -15.4           0     1   \n2       0      59  ...  0.500000  0.866025  62.08735 -23.7           0     1   \n3       0      59  ...  0.707107  0.707107  60.89884 -33.0           0     1   \n4       0      59  ...  0.866025  0.500000  62.88788 -40.6           0     1   \n\n   km_1  km_2  km_3  km_4  \n0     0     0     0     0  \n1     0     0     0     0  \n2     0     0     0     0  \n3     0     0     0     0  \n4     0     0     0     0  \n\n[5 rows x 30 columns]",
      "text/html": "<div>\n<style scoped>\n    .dataframe tbody tr th:only-of-type {\n        vertical-align: middle;\n    }\n\n    .dataframe tbody tr th {\n        vertical-align: top;\n    }\n\n    .dataframe thead th {\n        text-align: right;\n    }\n</style>\n<table border=\"1\" class=\"dataframe\">\n  <thead>\n    <tr style=\"text-align: right;\">\n      <th></th>\n      <th>num_date_time</th>\n      <th>b_num</th>\n      <th>ds</th>\n      <th>temp</th>\n      <th>precip</th>\n      <th>w_s</th>\n      <th>hum</th>\n      <th>y</th>\n      <th>b_type</th>\n      <th>f_area</th>\n      <th>...</th>\n      <th>sin_time</th>\n      <th>cos_time</th>\n      <th>THI</th>\n      <th>CDH</th>\n      <th>km_cluster</th>\n      <th>km_0</th>\n      <th>km_1</th>\n      <th>km_2</th>\n      <th>km_3</th>\n      <th>km_4</th>\n    </tr>\n  </thead>\n  <tbody>\n    <tr>\n      <th>0</th>\n      <td>1_20220601 00</td>\n      <td>1</td>\n      <td>2022-06-01 00:00:00</td>\n      <td>18.6</td>\n      <td>0.0</td>\n      <td>0.9</td>\n      <td>42.0</td>\n      <td>1085.28</td>\n      <td>0</td>\n      <td>59</td>\n      <td>...</td>\n      <td>0.000000</td>\n      <td>1.000000</td>\n      <td>63.09388</td>\n      <td>-7.4</td>\n      <td>0</td>\n      <td>1</td>\n      <td>0</td>\n      <td>0</td>\n      <td>0</td>\n      <td>0</td>\n    </tr>\n    <tr>\n      <th>1</th>\n      <td>1_20220601 01</td>\n      <td>1</td>\n      <td>2022-06-01 01:00:00</td>\n      <td>18.0</td>\n      <td>0.0</td>\n      <td>1.1</td>\n      <td>45.0</td>\n      <td>1047.36</td>\n      <td>0</td>\n      <td>59</td>\n      <td>...</td>\n      <td>0.258819</td>\n      <td>0.965926</td>\n      <td>62.46400</td>\n      <td>-15.4</td>\n      <td>0</td>\n      <td>1</td>\n      <td>0</td>\n      <td>0</td>\n      <td>0</td>\n      <td>0</td>\n    </tr>\n    <tr>\n      <th>2</th>\n      <td>1_20220601 02</td>\n      <td>1</td>\n      <td>2022-06-01 02:00:00</td>\n      <td>17.7</td>\n      <td>0.0</td>\n      <td>1.5</td>\n      <td>45.0</td>\n      <td>974.88</td>\n      <td>0</td>\n      <td>59</td>\n      <td>...</td>\n      <td>0.500000</td>\n      <td>0.866025</td>\n      <td>62.08735</td>\n      <td>-23.7</td>\n      <td>0</td>\n      <td>1</td>\n      <td>0</td>\n      <td>0</td>\n      <td>0</td>\n      <td>0</td>\n    </tr>\n    <tr>\n      <th>3</th>\n      <td>1_20220601 03</td>\n      <td>1</td>\n      <td>2022-06-01 03:00:00</td>\n      <td>16.7</td>\n      <td>0.0</td>\n      <td>1.4</td>\n      <td>48.0</td>\n      <td>953.76</td>\n      <td>0</td>\n      <td>59</td>\n      <td>...</td>\n      <td>0.707107</td>\n      <td>0.707107</td>\n      <td>60.89884</td>\n      <td>-33.0</td>\n      <td>0</td>\n      <td>1</td>\n      <td>0</td>\n      <td>0</td>\n      <td>0</td>\n      <td>0</td>\n    </tr>\n    <tr>\n      <th>4</th>\n      <td>1_20220601 04</td>\n      <td>1</td>\n      <td>2022-06-01 04:00:00</td>\n      <td>18.4</td>\n      <td>0.0</td>\n      <td>2.8</td>\n      <td>43.0</td>\n      <td>986.40</td>\n      <td>0</td>\n      <td>59</td>\n      <td>...</td>\n      <td>0.866025</td>\n      <td>0.500000</td>\n      <td>62.88788</td>\n      <td>-40.6</td>\n      <td>0</td>\n      <td>1</td>\n      <td>0</td>\n      <td>0</td>\n      <td>0</td>\n      <td>0</td>\n    </tr>\n  </tbody>\n</table>\n<p>5 rows × 30 columns</p>\n</div>"
     },
     "execution_count": 111,
     "metadata": {},
     "output_type": "execute_result"
    }
   ],
   "source": [
    "train_df.rename(columns={\"num_date_time\" : \"num_date_time\", \"건물번호\":\"b_num\", \"일시\" : \"D&T\", \"기온(C)\" : \"temp\", \"강수량(mm)\" : \"precip\", \"풍속(m/s)\" : \"w_s\" , \"습도(%)\" : \"hum\", \"전력소비량(kWh)\":\"power\", \"건물유형\":\"b_type\", \"연면적(m2)\":\"f_area\", \"냉방면적(m2)\":\"c_area\", \"태양광용량(kW)\": \"SUN_light\", \"ESS저장용량(kWh)\": \"ESS_save\", \"PCS용량(kW)\":\"PCS\" }, inplace=True)\n",
    "test_df.rename(columns={\"num_date_time\" : \"num_date_time\", \"건물번호\":\"b_num\", \"일시\" : \"D&T\", \"기온(C)\" : \"temp\", \"강수량(mm)\" : \"precip\", \"풍속(m/s)\" : \"w_s\" , \"습도(%)\" : \"hum\", \"전력소비량(kWh)\":\"power\", \"건물유형\":\"b_type\", \"연면적(m2)\":\"f_area\", \"냉방면적(m2)\":\"c_area\", \"태양광용량(kW)\": \"SUN_light\", \"ESS저장용량(kWh)\": \"ESS_save\", \"PCS용량(kW)\":\"PCS\"} , inplace= True)\n",
    "\n",
    "# 선형보간 실시\n",
    "train_df[\"w_s\"] = train_df[\"w_s\"].interpolate()\n",
    "train_df[\"hum\"] = train_df[\"hum\"].interpolate()\n",
    "train_df.loc[train_df[\"w_s\"]<0] = 0\n",
    "train_df.loc[train_df[\"hum\"]<0] = 0\n",
    "# 소수점 단위 절삭\n",
    "train_df[\"c_area\"] = train_df[\"c_area\"].round(4)\n",
    "train_df[\"f_area\"] = train_df[\"f_area\"].round(4)\n",
    "\n",
    "lf = LabelEncoder()\n",
    "train_df[\"c_area\"] = lf.fit_transform(train_df[\"c_area\"])\n",
    "train_df[\"f_area\"] = lf.fit_transform(train_df[\"f_area\"])\n",
    "train_df[\"b_type\"] = lf.fit_transform(train_df[\"b_type\"])\n",
    "train_df = train_df.fillna(0)\n",
    "\n",
    "def CDH(xs):\n",
    "    ys = []\n",
    "    for i in range(len(xs)):\n",
    "        if i < 11:\n",
    "            ys.append(np.sum(xs[:(i+1)]-26))\n",
    "        else:\n",
    "            ys.append(np.sum(xs[(i-11):(i+1)]-26))\n",
    "    return np.array(ys)\n",
    "def is_weekend(ds):\n",
    "    date = pd.to_datetime(ds)\n",
    "    if date.weekday() >= 5:\n",
    "        return 1\n",
    "    else:\n",
    "        return 0\n",
    "def is_noon(ds):\n",
    "    date = pd.to_datetime(ds)\n",
    "    if date.hour >= 7 and date.hour<20:\n",
    "        return 1\n",
    "    else:\n",
    "        return 0\n",
    "# 파생변수 생성 (train data)\n",
    "train_df['D&T'] = pd.to_datetime(train_df['D&T'])\n",
    "# train_df['month'] = train_df['num_date_time'].apply(lambda x : int(x[4:6]))\n",
    "train_df['day'] = train_df['D&T'].dt.day\n",
    "train_df['month'] = train_df['D&T'].dt.month\n",
    "train_df['hour'] = train_df['D&T'].dt.hour\n",
    "train_df['weekend'] = train_df['D&T'].apply(is_weekend)\n",
    "train_df['noon'] = train_df['D&T'].apply(is_noon)\n",
    "train_df['weekday'] = train_df['D&T'].dt.weekday\n",
    "train_df['sin_time'] = np.sin(2*np.pi*train_df.hour/24)\n",
    "train_df['cos_time'] = np.cos(2*np.pi*train_df.hour/24)\n",
    "train_df['THI'] = 9/5*train_df['temp'] - 0.55*(1-train_df['hum']/100)*(9/5*train_df['temp']-26)+32\n",
    "\n",
    "cdhs = np.array([])\n",
    "for num in range(1,101,1):\n",
    "    temp = train_df[train_df['b_num'] == num]\n",
    "    cdh = CDH(temp['temp'].values)\n",
    "    cdhs = np.concatenate([cdhs, cdh])\n",
    "\n",
    "train_df['CDH'] = cdhs\n",
    "# train_df.drop(\"D&T\", axis =1 , inplace=True)\n",
    "# K-Means > train data\n",
    "by_weekday = train_df.groupby(['b_num','weekday'])['power'].median().reset_index().pivot('b_num','weekday','power').reset_index()\n",
    "by_hour = train_df.groupby(['b_num','hour'])['power'].median().reset_index().pivot('b_num','hour','power').reset_index().drop('b_num', axis = 1)\n",
    "\n",
    "df = pd.concat([by_weekday, by_hour], axis= 1)\n",
    "columns = ['b_num'] + ['weekday'+str(i) for i in range(7)] + ['hour'+str(i) for i in range(24)]\n",
    "df.columns = columns\n",
    "kmeans = KMeans(n_clusters=5, random_state = 42)\n",
    "km_cluster = kmeans.fit_predict(df.iloc[:,1:])\n",
    "\n",
    "df_clust = df.copy()\n",
    "df_clust['km_cluster'] = km_cluster\n",
    "# df_clust['km_cluster'] = df_clust['km_cluster'].map({})\n",
    "\n",
    "train_df = train_df.merge(df_clust[['b_num','km_cluster']], on='b_num', how='left')\n",
    "km_d = pd.get_dummies(train_df['km_cluster'], prefix='km', drop_first=False)\n",
    "\n",
    "train_df = pd.concat([train_df, km_d], axis=1)\n",
    "# prophet 형태로 전환\n",
    "train_df.rename(columns={\"D&T\": \"ds\", \"power\": \"y\"}, inplace=True)\n",
    "\n",
    "train_df[\"b_type\"] = lf.fit_transform(train_df[\"b_type\"])\n",
    "train_df.head()"
   ],
   "metadata": {
    "collapsed": false,
    "ExecuteTime": {
     "end_time": "2023-08-21T06:53:24.411312100Z",
     "start_time": "2023-08-21T06:53:22.349469Z"
    }
   }
  },
  {
   "cell_type": "code",
   "execution_count": 113,
   "outputs": [],
   "source": [
    "def get_score_splited_train(model, xtrain, xtest, ytrain, ytest):\n",
    "    A = model.score(xtrain, ytrain)\n",
    "    B = model.score(xtest,ytest)\n",
    "    pred = model.predict(xtest)\n",
    "    C = SMAPE(ytest, pred)\n",
    "\n",
    "    print(f\"ACC train : {A:.4f}, test : {B:.4f}, SMAPE : {C:.4f}\" )\n",
    "def SMAPE(true, pred):\n",
    "    return np.mean((np.abs(true-pred))/(np.abs(true) + np.abs(pred))) * 100"
   ],
   "metadata": {
    "collapsed": false,
    "ExecuteTime": {
     "end_time": "2023-08-21T06:58:16.528050600Z",
     "start_time": "2023-08-21T06:58:16.482608600Z"
    }
   }
  },
  {
   "cell_type": "markdown",
   "source": [
    "## Models"
   ],
   "metadata": {
    "collapsed": false
   }
  },
  {
   "cell_type": "code",
   "execution_count": 125,
   "outputs": [],
   "source": [
    "def linear_1(x_train, y_train, x_test, y_test):\n",
    "\n",
    "    model1 = LinearRegression().fit(x_train, y_train)\n",
    "    y_pred = model1.predict(x_test)   #  y_pred -> 1D ndarray\n",
    "    y_pred = np.where(y_pred<0, -y_pred, y_pred)\n",
    "    # ValueError: Mean Squared Logarithmic Error cannot be used when targets contain negative values.\n",
    "    #RMSLE = lambda y_true, y_pred : MSLE(y_true, y_pred) ** 0.5\n",
    "    A,B,C = model1.score(x_train, y_train), model1.score(x_test, y_test), SMAPE(y_test, y_pred)\n",
    "    print(f'train_score : {A:.4f}, test_score : {B:.4f}, SMAPE : {C:.4f}')\n",
    "    return y_pred, C"
   ],
   "metadata": {
    "collapsed": false,
    "ExecuteTime": {
     "end_time": "2023-08-21T07:09:23.318220100Z",
     "start_time": "2023-08-21T07:09:23.280462700Z"
    }
   }
  },
  {
   "cell_type": "code",
   "execution_count": 197,
   "outputs": [],
   "source": [
    "def decision_1(x_train, y_train, x_test, y_test):\n",
    "    model2 = DecisionTreeRegressor().fit(x_train, y_train)\n",
    "    y_pred = model2.predict(x_test)   #  y_pred -> 1D ndarray\n",
    "    y_pred = np.where(y_pred<0, -y_pred, y_pred)\n",
    "    # ValueError: Mean Squared Logarithmic Error cannot be used when targets contain negative values.\n",
    "    #RMSLE = lambda y_true, y_pred : MSLE(y_true, y_pred) ** 0.5\n",
    "    A,B,C = model2.score(x_train, y_train), model2.score(x_test, y_test), SMAPE(y_test, y_pred)\n",
    "    print(f'train_score : {A:.4f}, test_score : {B:.4f}, SMAPE : {C:.4f}')\n",
    "    return y_pred, C"
   ],
   "metadata": {
    "collapsed": false,
    "ExecuteTime": {
     "end_time": "2023-08-21T08:37:16.774115300Z",
     "start_time": "2023-08-21T08:37:16.760604500Z"
    }
   }
  },
  {
   "cell_type": "code",
   "execution_count": 198,
   "outputs": [],
   "source": [
    "def RandomF_1(x_train, y_train, x_test, y_test):\n",
    "    model3 = RandomForestRegressor().fit(x_train, y_train)\n",
    "    y_pred = model3.predict(x_test)   #  y_pred -> 1D ndarray\n",
    "    y_pred = np.where(y_pred<0, -y_pred, y_pred)\n",
    "    # ValueError: Mean Squared Logarithmic Error cannot be used when targets contain negative values.\n",
    "    #RMSLE = lambda y_true, y_pred : MSLE(y_true, y_pred) ** 0.5\n",
    "    A,B,C = model3.score(x_train, y_train), model3.score(x_test, y_test), SMAPE(y_test, y_pred)\n",
    "    print(f'train_score : {A:.4f}, test_score : {B:.4f}, SMAPE : {C:.4f}')\n",
    "    return y_pred, C"
   ],
   "metadata": {
    "collapsed": false,
    "ExecuteTime": {
     "end_time": "2023-08-21T08:37:16.933379600Z",
     "start_time": "2023-08-21T08:37:16.920922500Z"
    }
   }
  },
  {
   "cell_type": "code",
   "execution_count": 173,
   "outputs": [],
   "source": [
    "# XGB"
   ],
   "metadata": {
    "collapsed": false,
    "ExecuteTime": {
     "end_time": "2023-08-21T07:41:35.638082200Z",
     "start_time": "2023-08-21T07:41:35.625205300Z"
    }
   }
  },
  {
   "cell_type": "code",
   "execution_count": 183,
   "outputs": [],
   "source": [
    "# CAT\n"
   ],
   "metadata": {
    "collapsed": false,
    "ExecuteTime": {
     "end_time": "2023-08-21T08:02:11.392421100Z",
     "start_time": "2023-08-21T08:02:11.387409400Z"
    }
   }
  },
  {
   "cell_type": "code",
   "execution_count": null,
   "outputs": [],
   "source": [],
   "metadata": {
    "collapsed": false
   }
  },
  {
   "cell_type": "code",
   "execution_count": null,
   "outputs": [],
   "source": [],
   "metadata": {
    "collapsed": false
   }
  },
  {
   "cell_type": "code",
   "execution_count": null,
   "outputs": [],
   "source": [],
   "metadata": {
    "collapsed": false
   }
  },
  {
   "cell_type": "code",
   "execution_count": 202,
   "outputs": [
    {
     "data": {
      "text/plain": "  0%|          | 0/100 [00:00<?, ?it/s]",
      "application/vnd.jupyter.widget-view+json": {
       "version_major": 2,
       "version_minor": 0,
       "model_id": "64535ad065a74d559036fc2475452a2d"
      }
     },
     "metadata": {},
     "output_type": "display_data"
    },
    {
     "name": "stdout",
     "output_type": "stream",
     "text": [
      "train_score : 0.9959, test_score : 0.9482, SMAPE : 3.4899\n",
      "train_score : 0.9925, test_score : 0.8776, SMAPE : 3.8402\n",
      "train_score : 0.9854, test_score : 0.8651, SMAPE : 4.8068\n",
      "train_score : 0.9967, test_score : 0.9645, SMAPE : 2.3334\n",
      "train_score : 0.9968, test_score : 0.9805, SMAPE : 2.5913\n",
      "train_score : 0.9979, test_score : 0.9653, SMAPE : 2.2400\n",
      "train_score : 0.9920, test_score : 0.9149, SMAPE : 3.6649\n",
      "train_score : 0.9739, test_score : 0.7295, SMAPE : 2.6524\n",
      "train_score : 0.9982, test_score : 0.9722, SMAPE : 2.1246\n",
      "train_score : 0.9891, test_score : -0.0244, SMAPE : 5.0295\n",
      "train_score : 0.9896, test_score : 0.8890, SMAPE : 1.8363\n",
      "train_score : 0.9942, test_score : 0.8454, SMAPE : 2.4486\n",
      "train_score : 0.9780, test_score : 0.2215, SMAPE : 3.4052\n",
      "train_score : 0.9581, test_score : 0.2226, SMAPE : 8.3352\n",
      "train_score : 0.9910, test_score : 0.9022, SMAPE : 1.5368\n",
      "train_score : 0.9977, test_score : 0.9768, SMAPE : 2.3528\n",
      "train_score : 0.9960, test_score : 0.9473, SMAPE : 2.8218\n",
      "train_score : 0.9959, test_score : 0.9217, SMAPE : 3.4754\n",
      "train_score : 0.9973, test_score : 0.9310, SMAPE : 4.0990\n",
      "train_score : 0.9962, test_score : 0.9613, SMAPE : 2.9315\n",
      "train_score : 0.9949, test_score : 0.9347, SMAPE : 3.7363\n",
      "train_score : 0.9945, test_score : 0.9267, SMAPE : 1.9667\n",
      "train_score : 0.9978, test_score : 0.9714, SMAPE : 0.9316\n",
      "train_score : 0.9970, test_score : 0.9865, SMAPE : 1.2159\n",
      "train_score : 0.9972, test_score : 0.9851, SMAPE : 1.1840\n",
      "train_score : 0.9973, test_score : 0.9817, SMAPE : 1.0977\n",
      "train_score : 0.9975, test_score : 0.9686, SMAPE : 0.9574\n",
      "train_score : 0.9943, test_score : 0.9115, SMAPE : 3.0661\n",
      "train_score : 0.9966, test_score : 0.8856, SMAPE : 2.6105\n",
      "train_score : 0.9889, test_score : 0.8249, SMAPE : 3.9535\n",
      "train_score : 0.9963, test_score : 0.9301, SMAPE : 2.8156\n",
      "train_score : 0.9968, test_score : 0.8294, SMAPE : 0.2264\n",
      "train_score : 0.9957, test_score : 0.6675, SMAPE : 0.2354\n",
      "train_score : 0.9923, test_score : 0.9197, SMAPE : 0.2849\n",
      "train_score : 0.9940, test_score : 0.8559, SMAPE : 0.2414\n",
      "train_score : 0.9910, test_score : 0.6805, SMAPE : 0.3074\n",
      "train_score : 0.9980, test_score : 0.9723, SMAPE : 2.7408\n",
      "train_score : 0.9977, test_score : 0.9968, SMAPE : 1.6461\n",
      "train_score : 0.9985, test_score : 0.9864, SMAPE : 2.7712\n",
      "train_score : 0.9967, test_score : 0.8827, SMAPE : 6.1398\n",
      "train_score : 0.9980, test_score : 0.9858, SMAPE : 2.4391\n",
      "train_score : 0.9991, test_score : 0.7982, SMAPE : 5.7602\n",
      "train_score : 0.9995, test_score : 0.9964, SMAPE : 2.5181\n",
      "train_score : 0.9997, test_score : 0.9957, SMAPE : 1.9280\n",
      "train_score : 0.9966, test_score : 0.9588, SMAPE : 1.2931\n",
      "train_score : 0.9958, test_score : 0.8812, SMAPE : 3.3003\n",
      "train_score : 0.9957, test_score : 0.9206, SMAPE : 2.4730\n",
      "train_score : 0.9977, test_score : 0.9772, SMAPE : 1.3594\n",
      "train_score : 0.9973, test_score : 0.8773, SMAPE : 2.1394\n",
      "train_score : 0.9972, test_score : 0.8867, SMAPE : 1.6572\n",
      "train_score : 0.9960, test_score : 0.9192, SMAPE : 2.3105\n",
      "train_score : 0.9966, test_score : 0.9667, SMAPE : 1.8094\n",
      "train_score : 0.9953, test_score : 0.9620, SMAPE : 5.4380\n",
      "train_score : 0.9967, test_score : 0.7539, SMAPE : 10.7448\n",
      "train_score : 0.9964, test_score : 0.9251, SMAPE : 0.7725\n",
      "train_score : 0.9912, test_score : 0.8664, SMAPE : 0.5537\n",
      "train_score : 0.9975, test_score : 0.9854, SMAPE : 2.3159\n",
      "train_score : 0.9907, test_score : 0.9423, SMAPE : 0.2093\n",
      "train_score : 0.9962, test_score : 0.9795, SMAPE : 2.6580\n",
      "train_score : 0.9966, test_score : 0.9491, SMAPE : 2.8732\n",
      "train_score : 0.9949, test_score : 0.9418, SMAPE : 2.2690\n",
      "train_score : 0.9963, test_score : 0.9430, SMAPE : 2.3981\n",
      "train_score : 0.9960, test_score : 0.9108, SMAPE : 3.2266\n",
      "train_score : 0.9966, test_score : 0.9666, SMAPE : 1.7129\n",
      "train_score : 0.9921, test_score : 0.8283, SMAPE : 4.5771\n",
      "train_score : 0.9933, test_score : 0.7280, SMAPE : 3.2016\n",
      "train_score : 0.9963, test_score : 0.8658, SMAPE : 3.0748\n",
      "train_score : 0.9957, test_score : 0.9561, SMAPE : 2.0403\n",
      "train_score : 0.9952, test_score : 0.9707, SMAPE : 1.3426\n",
      "train_score : 0.9962, test_score : 0.9483, SMAPE : 1.6899\n",
      "train_score : 0.9886, test_score : 0.8688, SMAPE : 2.2843\n",
      "train_score : 0.9955, test_score : 0.5337, SMAPE : 3.7976\n",
      "train_score : 0.9942, test_score : 0.7303, SMAPE : 2.0162\n",
      "train_score : 0.9953, test_score : 0.9321, SMAPE : 2.7654\n",
      "train_score : 0.9882, test_score : 0.9268, SMAPE : 1.9983\n",
      "train_score : 0.9925, test_score : 0.8038, SMAPE : 2.3411\n",
      "train_score : 0.9961, test_score : 0.9935, SMAPE : 1.1912\n",
      "train_score : 0.9966, test_score : 0.9922, SMAPE : 1.8283\n",
      "train_score : 0.9969, test_score : 0.9738, SMAPE : 1.5761\n",
      "train_score : 0.9977, test_score : 0.9919, SMAPE : 2.0698\n",
      "train_score : 0.9986, test_score : 0.9927, SMAPE : 1.6854\n",
      "train_score : 0.9978, test_score : 0.9864, SMAPE : 2.1004\n",
      "train_score : 0.9964, test_score : 0.9943, SMAPE : 1.3619\n",
      "train_score : 0.9968, test_score : 0.9919, SMAPE : 1.3960\n",
      "train_score : 0.9962, test_score : 0.9323, SMAPE : 2.1572\n",
      "train_score : 0.9947, test_score : 0.9571, SMAPE : 2.8173\n",
      "train_score : 0.9944, test_score : 0.8648, SMAPE : 5.0956\n",
      "train_score : 0.9978, test_score : 0.9845, SMAPE : 2.0153\n",
      "train_score : 0.9974, test_score : 0.9705, SMAPE : 2.7162\n",
      "train_score : 0.9972, test_score : 0.9481, SMAPE : 3.5262\n",
      "train_score : 0.9975, test_score : 0.9397, SMAPE : 5.7853\n",
      "train_score : 0.9979, test_score : 0.9709, SMAPE : 2.5745\n",
      "train_score : 0.9959, test_score : 0.8798, SMAPE : 3.1421\n",
      "train_score : 0.9933, test_score : 0.8687, SMAPE : 3.6454\n",
      "train_score : 0.9601, test_score : 0.5287, SMAPE : 8.4107\n",
      "train_score : 0.9967, test_score : 0.9542, SMAPE : 1.8040\n",
      "train_score : 0.9940, test_score : 0.8916, SMAPE : 3.2797\n",
      "train_score : 0.9925, test_score : 0.8615, SMAPE : 6.9754\n",
      "train_score : 0.9975, test_score : 0.9767, SMAPE : 1.7231\n",
      "train_score : 0.9955, test_score : 0.9510, SMAPE : 3.1708\n",
      "SMAPE score is 2.7148135087428487\n"
     ]
    }
   ],
   "source": [
    "test_submission = pd.DataFrame(columns=['num_date_time', 'answer'])\n",
    "# 나머지 0처리\n",
    "\n",
    "holidays = pd.DataFrame(columns=['holiday', 'ds'])\n",
    "# holidays[\"lower_window\"] = 1\n",
    "# holidays[\"upper_window\"] = 1\n",
    "smape_list = []\n",
    "answer_list = []\n",
    "num_list = []\n",
    "for i in tqdm(range(1,101)):\n",
    "    # 한건물당 168개씩 예측한다\n",
    "    train = train_df.loc[(train_df[\"b_num\"] == i), ][:-168]\n",
    "    test = train_df.loc[(train_df[\"b_num\"] == i), ][-168:].reset_index(drop=True)\n",
    "    # p_train = train.drop(columns= [\"num_date_time\"])\n",
    "    x_train = train.drop(columns= [\"num_date_time\", \"y\", \"ds\"])\n",
    "    y_train = train[\"y\"]\n",
    "    x_test = test.drop(columns= [\"num_date_time\", \"y\", \"ds\"])\n",
    "    # p_test = test.drop(columns= [\"num_date_time\"])\n",
    "    y_test = test[\"y\"]\n",
    "    answer , smape_data = RandomF_1(x_train,y_train, x_test, y_test)\n",
    "    # test_submission[\"answer\"]= pd.concat([test_submission[\"answer\"], pd.Series(answer)], axis = 0 ).reset_index(drop=True)\n",
    "    answer_list.extend(answer)\n",
    "    # test_submission.loc[(i-1)*168:(i*168)-1, \"num_date_time\"] = train[\"num_date_time\"].values\n",
    "    num_list.extend(train[\"num_date_time\"])\n",
    "    smape_list.append(smape_data)\n",
    "print(f\"SMAPE score is {sum(smape_list)/100}\")"
   ],
   "metadata": {
    "collapsed": false,
    "ExecuteTime": {
     "end_time": "2023-08-21T08:44:49.933922300Z",
     "start_time": "2023-08-21T08:43:20.122436700Z"
    }
   }
  },
  {
   "cell_type": "code",
   "execution_count": 190,
   "outputs": [
    {
     "name": "stdout",
     "output_type": "stream",
     "text": [
      "The Last SMAPE score is 3.4293720314802414\n"
     ]
    }
   ],
   "source": [
    "print(f\"The Last SMAPE score is {sum(smape_list)/100}\")"
   ],
   "metadata": {
    "collapsed": false,
    "ExecuteTime": {
     "end_time": "2023-08-21T08:09:04.356450100Z",
     "start_time": "2023-08-21T08:09:04.346572100Z"
    }
   }
  },
  {
   "cell_type": "code",
   "execution_count": 192,
   "outputs": [
    {
     "name": "stdout",
     "output_type": "stream",
     "text": [
      "The Best SMAPE score is 3.4293720314802414(Banyla RandomForest)\n"
     ]
    }
   ],
   "source": [
    "# Banyla RandomForest\n",
    "print(f\"The Best SMAPE score is {sum(smape_list)/100}(Banyla RandomForest)\")"
   ],
   "metadata": {
    "collapsed": false,
    "ExecuteTime": {
     "end_time": "2023-08-21T08:09:57.521649800Z",
     "start_time": "2023-08-21T08:09:57.501350400Z"
    }
   }
  },
  {
   "cell_type": "markdown",
   "source": [
    "# 데이터 결합 처리"
   ],
   "metadata": {
    "collapsed": false
   }
  },
  {
   "cell_type": "code",
   "execution_count": 0,
   "outputs": [],
   "source": [
    "# Feature Importance 추출\n",
    "train_x = train_df.drop(columns=[\n",
    "# 'num_date_time'\n",
    "#                                  ,\"y\"\n",
    "#                                  ,\"ds\",\n",
    "                                 'b_num'\n",
    "                                 ,'temp'\n",
    "                                 ,'precip'\n",
    "                                 ,'w_s'\n",
    "                                 ,'hum'\n",
    "                                 ,'b_type'\n",
    "                                 ,'f_area'\n",
    "                                 ,'c_area'\n",
    "                                 ,'SUN_light'\n",
    "                                 ,'ESS_save'\n",
    "                                 ,'PCS'\n",
    "                                 ,'day'\n",
    "                                 ,'month'\n",
    "                                , 'hour'\n",
    "                                , 'weekend'\n",
    "                                , 'noon'\n",
    "                                , 'weekday'\n",
    "                                , 'sin_time'\n",
    "                                , 'cos_time'\n",
    "                                , 'THI'\n",
    "                                , 'CDH'\n",
    "                                , 'km_cluster'\n",
    "                                , 'km_0'\n",
    "                                , 'km_1'\n",
    "                                , 'km_2'\n",
    "                                , 'km_3',\n",
    "                                 'km_4'\n",
    "                                 ])\n",
    "train_y = train_df['y']\n",
    "xtrain, xtest, ytrain, ytest = train_test_split(train_x, train_y)"
   ],
   "metadata": {
    "collapsed": false
   }
  },
  {
   "cell_type": "code",
   "execution_count": 250,
   "outputs": [
    {
     "data": {
      "text/plain": "Index(['num_date_time', 'b_num', 'ds', 'temp', 'precip', 'w_s', 'hum', 'y',\n       'b_type', 'f_area', 'c_area', 'SUN_light', 'ESS_save', 'PCS', 'day',\n       'month', 'hour', 'weekend', 'noon', 'weekday', 'sin_time', 'cos_time',\n       'THI', 'CDH', 'km_cluster', 'km_0', 'km_1', 'km_2', 'km_3', 'km_4'],\n      dtype='object')"
     },
     "execution_count": 250,
     "metadata": {},
     "output_type": "execute_result"
    }
   ],
   "source": [
    "train_df.columns"
   ],
   "metadata": {
    "collapsed": false,
    "ExecuteTime": {
     "end_time": "2023-08-21T09:33:31.725335900Z",
     "start_time": "2023-08-21T09:33:31.705326100Z"
    }
   }
  },
  {
   "cell_type": "code",
   "execution_count": 201,
   "outputs": [
    {
     "name": "stdout",
     "output_type": "stream",
     "text": [
      "ACC train : 0.9994, test : 0.9956, SMAPE : 2.1337\n",
      "            importance\n",
      "km_3          0.380670\n",
      "km_1          0.312507\n",
      "km_2          0.094559\n",
      "noon          0.035857\n",
      "f_area        0.021027\n",
      "c_area        0.020925\n",
      "b_num         0.015429\n",
      "cos_time      0.012944\n",
      "hour          0.011429\n",
      "km_4          0.011308\n",
      "km_cluster    0.011065\n",
      "weekday       0.010876\n",
      "THI           0.010289\n",
      "SUN_light     0.008487\n",
      "sin_time      0.008243\n",
      "b_type        0.007413\n",
      "weekend       0.007038\n",
      "km_0          0.005612\n",
      "CDH           0.004565\n",
      "day           0.002701\n",
      "month         0.001848\n",
      "w_s           0.001426\n",
      "temp          0.001388\n",
      "hum           0.001095\n",
      "PCS           0.000631\n",
      "ESS_save      0.000546\n",
      "precip        0.000121\n"
     ]
    }
   ],
   "source": [
    "best_rf = RandomForestRegressor(random_state=42, bootstrap=True, max_depth=None, min_samples_leaf=1,\n",
    "                                min_samples_split=2, n_estimators=200)\n",
    "best_rf.fit(xtrain, ytrain)\n",
    "get_score_splited_train(best_rf, xtrain, xtest, ytrain, ytest)\n",
    "prediction = best_rf.predict(xtest)\n",
    "SMAPE(ytest, prediction)\n",
    "feature_importances = pd.DataFrame(best_rf.feature_importances_,\n",
    "\n",
    "                                   index=xtrain.columns,\n",
    "                                   columns=['importance']).sort_values('importance', ascending=False)\n",
    "print(feature_importances)"
   ],
   "metadata": {
    "collapsed": false,
    "ExecuteTime": {
     "end_time": "2023-08-21T08:43:20.123436400Z",
     "start_time": "2023-08-21T08:39:23.379228Z"
    }
   }
  },
  {
   "cell_type": "code",
   "execution_count": 193,
   "outputs": [
    {
     "name": "stdout",
     "output_type": "stream",
     "text": [
      "train_score : 0.8716, test_score : 0.8739, SMAPE : 16.2055\n"
     ]
    },
    {
     "data": {
      "text/plain": "(array([4176.81327936, 2859.88728734, 3427.78612563, ..., 2659.50790586,\n         821.11103217, 3219.59140154]),\n 16.205465119156678)"
     },
     "execution_count": 193,
     "metadata": {},
     "output_type": "execute_result"
    }
   ],
   "source": [
    "linear_1(xtrain,ytrain,xtest,ytest)"
   ],
   "metadata": {
    "collapsed": false,
    "ExecuteTime": {
     "end_time": "2023-08-21T08:34:46.389086800Z",
     "start_time": "2023-08-21T08:34:46.269576800Z"
    }
   }
  },
  {
   "cell_type": "code",
   "execution_count": 199,
   "outputs": [
    {
     "name": "stdout",
     "output_type": "stream",
     "text": [
      "train_score : 1.0000, test_score : 0.9913, SMAPE : 2.7917\n"
     ]
    },
    {
     "data": {
      "text/plain": "(array([ 973.92, 1280.88,  636.72, ..., 2310.3 , 1457.4 , 8815.68]),\n 2.7917264263987636)"
     },
     "execution_count": 199,
     "metadata": {},
     "output_type": "execute_result"
    }
   ],
   "source": [
    "decision_1(xtrain,ytrain,xtest,ytest)"
   ],
   "metadata": {
    "collapsed": false,
    "ExecuteTime": {
     "end_time": "2023-08-21T08:37:24.845633800Z",
     "start_time": "2023-08-21T08:37:23.098224600Z"
    }
   }
  },
  {
   "cell_type": "code",
   "execution_count": 200,
   "outputs": [
    {
     "name": "stdout",
     "output_type": "stream",
     "text": [
      "train_score : 0.9993, test_score : 0.9956, SMAPE : 2.1648\n"
     ]
    },
    {
     "data": {
      "text/plain": "(array([ 986.151 , 1206.036 ,  661.122 , ..., 2330.3292, 1595.535 ,\n        8816.2416]),\n 2.1647580994938456)"
     },
     "execution_count": 200,
     "metadata": {},
     "output_type": "execute_result"
    }
   ],
   "source": [
    "RandomF_1(xtrain,ytrain,xtest,ytest)"
   ],
   "metadata": {
    "collapsed": false,
    "ExecuteTime": {
     "end_time": "2023-08-21T08:39:23.380228900Z",
     "start_time": "2023-08-21T08:37:24.845158900Z"
    }
   }
  },
  {
   "cell_type": "code",
   "execution_count": null,
   "outputs": [],
   "source": [],
   "metadata": {
    "collapsed": false
   }
  }
 ],
 "metadata": {
  "kernelspec": {
   "display_name": "Python 3",
   "language": "python",
   "name": "python3"
  },
  "language_info": {
   "codemirror_mode": {
    "name": "ipython",
    "version": 2
   },
   "file_extension": ".py",
   "mimetype": "text/x-python",
   "name": "python",
   "nbconvert_exporter": "python",
   "pygments_lexer": "ipython2",
   "version": "2.7.6"
  }
 },
 "nbformat": 4,
 "nbformat_minor": 0
}

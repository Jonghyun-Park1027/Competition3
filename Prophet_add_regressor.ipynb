{
 "cells": [
  {
   "cell_type": "code",
   "execution_count": 1,
   "metadata": {
    "collapsed": true,
    "ExecuteTime": {
     "end_time": "2023-08-14T04:02:44.025906200Z",
     "start_time": "2023-08-14T04:02:43.102472900Z"
    }
   },
   "outputs": [
    {
     "name": "stderr",
     "output_type": "stream",
     "text": [
      "Importing plotly failed. Interactive plots will not work.\n"
     ]
    }
   ],
   "source": [
    "import os\n",
    "import random\n",
    "import warnings\n",
    "from prophet.plot import add_changepoints_to_plot\n",
    "import numpy as np\n",
    "import pandas as pd\n",
    "from prophet import Prophet\n",
    "\n",
    "warnings.filterwarnings(action='ignore')"
   ]
  },
  {
   "cell_type": "code",
   "execution_count": 2,
   "outputs": [],
   "source": [
    "def seed_everything(seed):\n",
    "    random.seed(seed)\n",
    "    os.environ['PYTHONHASHSEED'] = str(seed)\n",
    "    np.random.seed(seed)\n",
    "\n",
    "\n",
    "seed_everything(42)  # Seed 고정"
   ],
   "metadata": {
    "collapsed": false,
    "ExecuteTime": {
     "end_time": "2023-08-14T04:02:44.033931900Z",
     "start_time": "2023-08-14T04:02:44.025906200Z"
    }
   }
  },
  {
   "cell_type": "code",
   "execution_count": 3,
   "outputs": [],
   "source": [
    "info = pd.read_csv('./building_info.csv')\n",
    "train_df = pd.read_csv('./train.csv')\n",
    "test_df = pd.read_csv('./test.csv')"
   ],
   "metadata": {
    "collapsed": false,
    "ExecuteTime": {
     "end_time": "2023-08-14T04:02:44.199446800Z",
     "start_time": "2023-08-14T04:02:44.029932500Z"
    }
   }
  },
  {
   "cell_type": "code",
   "execution_count": 4,
   "outputs": [
    {
     "data": {
      "text/plain": "          num_date_time  건물번호           일시  기온(C)  강수량(mm)  풍속(m/s)  습도(%)  \\\n0         1_20220601 00     1  20220601 00   18.6      NaN      0.9   42.0   \n1         1_20220601 01     1  20220601 01   18.0      NaN      1.1   45.0   \n2         1_20220601 02     1  20220601 02   17.7      NaN      1.5   45.0   \n3         1_20220601 03     1  20220601 03   16.7      NaN      1.4   48.0   \n4         1_20220601 04     1  20220601 04   18.4      NaN      2.8   43.0   \n...                 ...   ...          ...    ...      ...      ...    ...   \n203995  100_20220824 19   100  20220824 19   23.1      NaN      0.9   86.0   \n203996  100_20220824 20   100  20220824 20   22.4      NaN      1.3   86.0   \n203997  100_20220824 21   100  20220824 21   21.3      NaN      1.0   92.0   \n203998  100_20220824 22   100  20220824 22   21.0      NaN      0.3   94.0   \n203999  100_20220824 23   100  20220824 23   20.7      NaN      0.1   95.0   \n\n        일조(hr)  일사(MJ/m2)  전력소비량(kWh)  \n0          NaN        NaN     1085.28  \n1          NaN        NaN     1047.36  \n2          NaN        NaN      974.88  \n3          NaN        NaN      953.76  \n4          NaN        NaN      986.40  \n...        ...        ...         ...  \n203995     0.5        NaN      881.04  \n203996     0.0        NaN      798.96  \n203997     NaN        NaN      825.12  \n203998     NaN        NaN      640.08  \n203999     NaN        NaN      540.24  \n\n[204000 rows x 10 columns]",
      "text/html": "<div>\n<style scoped>\n    .dataframe tbody tr th:only-of-type {\n        vertical-align: middle;\n    }\n\n    .dataframe tbody tr th {\n        vertical-align: top;\n    }\n\n    .dataframe thead th {\n        text-align: right;\n    }\n</style>\n<table border=\"1\" class=\"dataframe\">\n  <thead>\n    <tr style=\"text-align: right;\">\n      <th></th>\n      <th>num_date_time</th>\n      <th>건물번호</th>\n      <th>일시</th>\n      <th>기온(C)</th>\n      <th>강수량(mm)</th>\n      <th>풍속(m/s)</th>\n      <th>습도(%)</th>\n      <th>일조(hr)</th>\n      <th>일사(MJ/m2)</th>\n      <th>전력소비량(kWh)</th>\n    </tr>\n  </thead>\n  <tbody>\n    <tr>\n      <th>0</th>\n      <td>1_20220601 00</td>\n      <td>1</td>\n      <td>20220601 00</td>\n      <td>18.6</td>\n      <td>NaN</td>\n      <td>0.9</td>\n      <td>42.0</td>\n      <td>NaN</td>\n      <td>NaN</td>\n      <td>1085.28</td>\n    </tr>\n    <tr>\n      <th>1</th>\n      <td>1_20220601 01</td>\n      <td>1</td>\n      <td>20220601 01</td>\n      <td>18.0</td>\n      <td>NaN</td>\n      <td>1.1</td>\n      <td>45.0</td>\n      <td>NaN</td>\n      <td>NaN</td>\n      <td>1047.36</td>\n    </tr>\n    <tr>\n      <th>2</th>\n      <td>1_20220601 02</td>\n      <td>1</td>\n      <td>20220601 02</td>\n      <td>17.7</td>\n      <td>NaN</td>\n      <td>1.5</td>\n      <td>45.0</td>\n      <td>NaN</td>\n      <td>NaN</td>\n      <td>974.88</td>\n    </tr>\n    <tr>\n      <th>3</th>\n      <td>1_20220601 03</td>\n      <td>1</td>\n      <td>20220601 03</td>\n      <td>16.7</td>\n      <td>NaN</td>\n      <td>1.4</td>\n      <td>48.0</td>\n      <td>NaN</td>\n      <td>NaN</td>\n      <td>953.76</td>\n    </tr>\n    <tr>\n      <th>4</th>\n      <td>1_20220601 04</td>\n      <td>1</td>\n      <td>20220601 04</td>\n      <td>18.4</td>\n      <td>NaN</td>\n      <td>2.8</td>\n      <td>43.0</td>\n      <td>NaN</td>\n      <td>NaN</td>\n      <td>986.40</td>\n    </tr>\n    <tr>\n      <th>...</th>\n      <td>...</td>\n      <td>...</td>\n      <td>...</td>\n      <td>...</td>\n      <td>...</td>\n      <td>...</td>\n      <td>...</td>\n      <td>...</td>\n      <td>...</td>\n      <td>...</td>\n    </tr>\n    <tr>\n      <th>203995</th>\n      <td>100_20220824 19</td>\n      <td>100</td>\n      <td>20220824 19</td>\n      <td>23.1</td>\n      <td>NaN</td>\n      <td>0.9</td>\n      <td>86.0</td>\n      <td>0.5</td>\n      <td>NaN</td>\n      <td>881.04</td>\n    </tr>\n    <tr>\n      <th>203996</th>\n      <td>100_20220824 20</td>\n      <td>100</td>\n      <td>20220824 20</td>\n      <td>22.4</td>\n      <td>NaN</td>\n      <td>1.3</td>\n      <td>86.0</td>\n      <td>0.0</td>\n      <td>NaN</td>\n      <td>798.96</td>\n    </tr>\n    <tr>\n      <th>203997</th>\n      <td>100_20220824 21</td>\n      <td>100</td>\n      <td>20220824 21</td>\n      <td>21.3</td>\n      <td>NaN</td>\n      <td>1.0</td>\n      <td>92.0</td>\n      <td>NaN</td>\n      <td>NaN</td>\n      <td>825.12</td>\n    </tr>\n    <tr>\n      <th>203998</th>\n      <td>100_20220824 22</td>\n      <td>100</td>\n      <td>20220824 22</td>\n      <td>21.0</td>\n      <td>NaN</td>\n      <td>0.3</td>\n      <td>94.0</td>\n      <td>NaN</td>\n      <td>NaN</td>\n      <td>640.08</td>\n    </tr>\n    <tr>\n      <th>203999</th>\n      <td>100_20220824 23</td>\n      <td>100</td>\n      <td>20220824 23</td>\n      <td>20.7</td>\n      <td>NaN</td>\n      <td>0.1</td>\n      <td>95.0</td>\n      <td>NaN</td>\n      <td>NaN</td>\n      <td>540.24</td>\n    </tr>\n  </tbody>\n</table>\n<p>204000 rows × 10 columns</p>\n</div>"
     },
     "execution_count": 4,
     "metadata": {},
     "output_type": "execute_result"
    }
   ],
   "source": [
    "train_df"
   ],
   "metadata": {
    "collapsed": false,
    "ExecuteTime": {
     "end_time": "2023-08-14T04:02:44.215328800Z",
     "start_time": "2023-08-14T04:02:44.200452500Z"
    }
   }
  },
  {
   "cell_type": "markdown",
   "source": [
    "## 가장 결과가 좋았던 외생변수 4종을 포함한 코드에 prameter 최적화를 수행한다"
   ],
   "metadata": {
    "collapsed": false
   }
  },
  {
   "cell_type": "code",
   "execution_count": null,
   "outputs": [
    {
     "name": "stderr",
     "output_type": "stream",
     "text": [
      "13:13:33 - cmdstanpy - INFO - Chain [1] start processing\n",
      "13:13:33 - cmdstanpy - INFO - Chain [1] done processing\n",
      "13:13:34 - cmdstanpy - INFO - Chain [1] start processing\n",
      "13:13:34 - cmdstanpy - INFO - Chain [1] done processing\n",
      "13:13:34 - cmdstanpy - INFO - Chain [1] start processing\n",
      "13:13:34 - cmdstanpy - INFO - Chain [1] done processing\n",
      "13:13:35 - cmdstanpy - INFO - Chain [1] start processing\n",
      "13:13:35 - cmdstanpy - INFO - Chain [1] done processing\n",
      "13:13:36 - cmdstanpy - INFO - Chain [1] start processing\n",
      "13:13:36 - cmdstanpy - INFO - Chain [1] done processing\n",
      "13:13:36 - cmdstanpy - INFO - Chain [1] start processing\n",
      "13:13:36 - cmdstanpy - INFO - Chain [1] done processing\n",
      "13:13:37 - cmdstanpy - INFO - Chain [1] start processing\n",
      "13:13:37 - cmdstanpy - INFO - Chain [1] done processing\n",
      "13:13:38 - cmdstanpy - INFO - Chain [1] start processing\n",
      "13:13:38 - cmdstanpy - INFO - Chain [1] done processing\n",
      "13:13:38 - cmdstanpy - INFO - Chain [1] start processing\n",
      "13:13:38 - cmdstanpy - INFO - Chain [1] done processing\n",
      "13:13:39 - cmdstanpy - INFO - Chain [1] start processing\n",
      "13:13:39 - cmdstanpy - INFO - Chain [1] done processing\n",
      "13:13:40 - cmdstanpy - INFO - Chain [1] start processing\n",
      "13:13:40 - cmdstanpy - INFO - Chain [1] done processing\n",
      "13:13:40 - cmdstanpy - INFO - Chain [1] start processing\n",
      "13:13:41 - cmdstanpy - INFO - Chain [1] done processing\n",
      "13:13:41 - cmdstanpy - INFO - Chain [1] start processing\n",
      "13:13:41 - cmdstanpy - INFO - Chain [1] done processing\n",
      "13:13:42 - cmdstanpy - INFO - Chain [1] start processing\n",
      "13:13:42 - cmdstanpy - INFO - Chain [1] done processing\n",
      "13:13:42 - cmdstanpy - INFO - Chain [1] start processing\n",
      "13:13:43 - cmdstanpy - INFO - Chain [1] done processing\n",
      "13:13:43 - cmdstanpy - INFO - Chain [1] start processing\n",
      "13:13:43 - cmdstanpy - INFO - Chain [1] done processing\n",
      "13:13:44 - cmdstanpy - INFO - Chain [1] start processing\n",
      "13:13:44 - cmdstanpy - INFO - Chain [1] done processing\n",
      "13:13:44 - cmdstanpy - INFO - Chain [1] start processing\n",
      "13:13:44 - cmdstanpy - INFO - Chain [1] done processing\n",
      "13:13:45 - cmdstanpy - INFO - Chain [1] start processing\n",
      "13:13:45 - cmdstanpy - INFO - Chain [1] done processing\n",
      "13:13:45 - cmdstanpy - INFO - Chain [1] start processing\n",
      "13:13:46 - cmdstanpy - INFO - Chain [1] done processing\n",
      "13:13:46 - cmdstanpy - INFO - Chain [1] start processing\n",
      "13:13:46 - cmdstanpy - INFO - Chain [1] done processing\n",
      "13:13:47 - cmdstanpy - INFO - Chain [1] start processing\n",
      "13:13:47 - cmdstanpy - INFO - Chain [1] done processing\n",
      "13:13:47 - cmdstanpy - INFO - Chain [1] start processing\n",
      "13:13:47 - cmdstanpy - INFO - Chain [1] done processing\n",
      "13:13:48 - cmdstanpy - INFO - Chain [1] start processing\n",
      "13:13:48 - cmdstanpy - INFO - Chain [1] done processing\n",
      "13:13:48 - cmdstanpy - INFO - Chain [1] start processing\n",
      "13:13:49 - cmdstanpy - INFO - Chain [1] done processing\n",
      "13:13:49 - cmdstanpy - INFO - Chain [1] start processing\n",
      "13:13:49 - cmdstanpy - INFO - Chain [1] done processing\n",
      "13:13:50 - cmdstanpy - INFO - Chain [1] start processing\n",
      "13:13:50 - cmdstanpy - INFO - Chain [1] done processing\n",
      "13:13:50 - cmdstanpy - INFO - Chain [1] start processing\n",
      "13:13:50 - cmdstanpy - INFO - Chain [1] done processing\n",
      "13:13:51 - cmdstanpy - INFO - Chain [1] start processing\n",
      "13:13:51 - cmdstanpy - INFO - Chain [1] done processing\n",
      "13:13:52 - cmdstanpy - INFO - Chain [1] start processing\n",
      "13:13:52 - cmdstanpy - INFO - Chain [1] done processing\n",
      "13:13:52 - cmdstanpy - INFO - Chain [1] start processing\n",
      "13:13:52 - cmdstanpy - INFO - Chain [1] done processing\n",
      "13:13:53 - cmdstanpy - INFO - Chain [1] start processing\n",
      "13:13:53 - cmdstanpy - INFO - Chain [1] done processing\n",
      "13:13:54 - cmdstanpy - INFO - Chain [1] start processing\n",
      "13:13:54 - cmdstanpy - INFO - Chain [1] done processing\n",
      "13:13:55 - cmdstanpy - INFO - Chain [1] start processing\n",
      "13:13:55 - cmdstanpy - INFO - Chain [1] done processing\n",
      "13:13:56 - cmdstanpy - INFO - Chain [1] start processing\n",
      "13:13:56 - cmdstanpy - INFO - Chain [1] done processing\n",
      "13:13:57 - cmdstanpy - INFO - Chain [1] start processing\n",
      "13:13:57 - cmdstanpy - INFO - Chain [1] done processing\n",
      "13:13:57 - cmdstanpy - INFO - Chain [1] start processing\n",
      "13:13:57 - cmdstanpy - INFO - Chain [1] done processing\n",
      "13:13:58 - cmdstanpy - INFO - Chain [1] start processing\n",
      "13:13:58 - cmdstanpy - INFO - Chain [1] done processing\n",
      "13:13:59 - cmdstanpy - INFO - Chain [1] start processing\n",
      "13:13:59 - cmdstanpy - INFO - Chain [1] done processing\n",
      "13:13:59 - cmdstanpy - INFO - Chain [1] start processing\n",
      "13:13:59 - cmdstanpy - INFO - Chain [1] done processing\n",
      "13:14:00 - cmdstanpy - INFO - Chain [1] start processing\n",
      "13:14:00 - cmdstanpy - INFO - Chain [1] done processing\n",
      "13:14:00 - cmdstanpy - INFO - Chain [1] start processing\n",
      "13:14:01 - cmdstanpy - INFO - Chain [1] done processing\n",
      "13:14:01 - cmdstanpy - INFO - Chain [1] start processing\n",
      "13:14:01 - cmdstanpy - INFO - Chain [1] done processing\n",
      "13:14:02 - cmdstanpy - INFO - Chain [1] start processing\n",
      "13:14:02 - cmdstanpy - INFO - Chain [1] done processing\n",
      "13:14:02 - cmdstanpy - INFO - Chain [1] start processing\n",
      "13:14:02 - cmdstanpy - INFO - Chain [1] done processing\n",
      "13:14:03 - cmdstanpy - INFO - Chain [1] start processing\n",
      "13:14:03 - cmdstanpy - INFO - Chain [1] done processing\n",
      "13:14:03 - cmdstanpy - INFO - Chain [1] start processing\n",
      "13:14:03 - cmdstanpy - INFO - Chain [1] done processing\n",
      "13:14:04 - cmdstanpy - INFO - Chain [1] start processing\n",
      "13:14:04 - cmdstanpy - INFO - Chain [1] done processing\n",
      "13:14:05 - cmdstanpy - INFO - Chain [1] start processing\n",
      "13:14:05 - cmdstanpy - INFO - Chain [1] done processing\n",
      "13:14:05 - cmdstanpy - INFO - Chain [1] start processing\n",
      "13:14:05 - cmdstanpy - INFO - Chain [1] done processing\n",
      "13:14:06 - cmdstanpy - INFO - Chain [1] start processing\n",
      "13:14:06 - cmdstanpy - INFO - Chain [1] done processing\n",
      "13:14:07 - cmdstanpy - INFO - Chain [1] start processing\n",
      "13:14:07 - cmdstanpy - INFO - Chain [1] done processing\n",
      "13:14:07 - cmdstanpy - INFO - Chain [1] start processing\n",
      "13:14:07 - cmdstanpy - INFO - Chain [1] done processing\n",
      "13:14:08 - cmdstanpy - INFO - Chain [1] start processing\n",
      "13:14:08 - cmdstanpy - INFO - Chain [1] done processing\n",
      "13:14:08 - cmdstanpy - INFO - Chain [1] start processing\n",
      "13:14:09 - cmdstanpy - INFO - Chain [1] done processing\n",
      "13:14:09 - cmdstanpy - INFO - Chain [1] start processing\n",
      "13:14:09 - cmdstanpy - INFO - Chain [1] done processing\n",
      "13:14:10 - cmdstanpy - INFO - Chain [1] start processing\n",
      "13:14:10 - cmdstanpy - INFO - Chain [1] done processing\n",
      "13:14:10 - cmdstanpy - INFO - Chain [1] start processing\n",
      "13:14:10 - cmdstanpy - INFO - Chain [1] done processing\n",
      "13:14:11 - cmdstanpy - INFO - Chain [1] start processing\n",
      "13:14:11 - cmdstanpy - INFO - Chain [1] done processing\n",
      "13:14:12 - cmdstanpy - INFO - Chain [1] start processing\n",
      "13:14:12 - cmdstanpy - INFO - Chain [1] done processing\n",
      "13:14:12 - cmdstanpy - INFO - Chain [1] start processing\n",
      "13:14:12 - cmdstanpy - INFO - Chain [1] done processing\n",
      "13:14:13 - cmdstanpy - INFO - Chain [1] start processing\n",
      "13:14:13 - cmdstanpy - INFO - Chain [1] done processing\n",
      "13:14:14 - cmdstanpy - INFO - Chain [1] start processing\n",
      "13:14:14 - cmdstanpy - INFO - Chain [1] done processing\n",
      "13:14:14 - cmdstanpy - INFO - Chain [1] start processing\n",
      "13:14:15 - cmdstanpy - INFO - Chain [1] done processing\n",
      "13:14:15 - cmdstanpy - INFO - Chain [1] start processing\n",
      "13:14:15 - cmdstanpy - INFO - Chain [1] done processing\n",
      "13:14:16 - cmdstanpy - INFO - Chain [1] start processing\n",
      "13:14:16 - cmdstanpy - INFO - Chain [1] done processing\n",
      "13:14:17 - cmdstanpy - INFO - Chain [1] start processing\n",
      "13:14:17 - cmdstanpy - INFO - Chain [1] done processing\n",
      "13:14:17 - cmdstanpy - INFO - Chain [1] start processing\n",
      "13:14:18 - cmdstanpy - INFO - Chain [1] done processing\n",
      "13:14:18 - cmdstanpy - INFO - Chain [1] start processing\n",
      "13:14:18 - cmdstanpy - INFO - Chain [1] done processing\n",
      "13:14:19 - cmdstanpy - INFO - Chain [1] start processing\n",
      "13:14:19 - cmdstanpy - INFO - Chain [1] done processing\n",
      "13:14:19 - cmdstanpy - INFO - Chain [1] start processing\n",
      "13:14:20 - cmdstanpy - INFO - Chain [1] done processing\n",
      "13:14:20 - cmdstanpy - INFO - Chain [1] start processing\n"
     ]
    }
   ],
   "source": [
    "test_submission = pd.DataFrame(columns=['num_date_time', 'answer'])\n",
    "fillzero_train = train_df.fillna(0)\n",
    "holidays = pd.DataFrame(columns=['holiday', 'ds'])\n",
    "for i in range(1, 101):\n",
    "    # 한건물당 168개씩 예측한다\n",
    "    sample_train = fillzero_train.loc[fillzero_train[\"건물번호\"] == i]\n",
    "    target = sample_train[\"num_date_time\"].str.split(\"_\").apply(lambda x: x[1])\n",
    "    sample_train[\"num_date_time\"] = pd.to_datetime(target, format=\"%Y%m%d %H\")\n",
    "    data = sample_train.rename(columns={'num_date_time': 'ds', \"전력소비량(kWh)\": 'y'})[\n",
    "        ['ds', 'y', '기온(C)', '강수량(mm)', '풍속(m/s)', '습도(%)']].reset_index(drop=True)\n",
    "    # data['holidays'] = 0\n",
    "    m = Prophet(\n",
    "        # growth: Any = 'linear',\n",
    "        #      changepoints: Any = None,\n",
    "        #      n_changepoints: Any = 25,\n",
    "             changepoint_range = 1,\n",
    "        #      yearly_seasonality: Any = 'auto',\n",
    "        #      weekly_seasonality: Any = 'auto',\n",
    "        #      daily_seasonality: Any = 'auto',\n",
    "             holidays = holidays,\n",
    "        #      seasonality_mode: Any = 'additive',\n",
    "        #      seasonality_prior_scale: Any = 10.0,\n",
    "        #      holidays_prior_scale: Any = 10.0,\n",
    "        #      changepoint_prior_scale = 0.01,\n",
    "        #      mcmc_samples: Any = 0,\n",
    "        #      interval_width: Any = 0.80,\n",
    "        #      uncertainty_samples: Any = 1000,\n",
    "        #      stan_backend: Any = None\n",
    "    )\n",
    "    m.add_country_holidays(country_name='KR')\n",
    "    m.add_regressor('기온(C)')\n",
    "    m.add_regressor('강수량(mm)')\n",
    "    m.add_regressor('풍속(m/s)')\n",
    "    m.add_regressor('습도(%)')\n",
    "    m.fit(data)\n",
    "\n",
    "    future = m.make_future_dataframe(periods=168, freq='1H')\n",
    "    future['기온(C)'] = data['기온(C)']\n",
    "    future['강수량(mm)'] = data['강수량(mm)']\n",
    "    future['풍속(m/s)'] = data['풍속(m/s)']\n",
    "    future['습도(%)'] = data['습도(%)']\n",
    "\n",
    "    future.loc[future.shape[0] - 168:, '기온(C)'] = test_df.loc[(i - 1) * 168:i * 168 - 1, '기온(C)'].values\n",
    "    future.loc[future.shape[0] - 168:, '강수량(mm)'] = test_df.loc[(i - 1) * 168:i * 168 - 1, '강수량(mm)'].values\n",
    "    future.loc[future.shape[0] - 168:, '풍속(m/s)'] = test_df.loc[(i - 1) * 168:i * 168 - 1, '풍속(m/s)'].values\n",
    "    future.loc[future.shape[0] - 168:, '습도(%)'] = test_df.loc[(i - 1) * 168:i * 168 - 1, '습도(%)'].values\n",
    "\n",
    "    forecast = m.predict(future)\n",
    "\n",
    "    answer = forecast[-168:].loc[:, ['ds', 'yhat']].rename(\n",
    "        columns={\"ds\": \"num_date_time\", \"yhat\": \"answer\"}).reset_index(drop=True)\n",
    "\n",
    "    answer[\"year\"] = answer[\"num_date_time\"].dt.year.astype(str)\n",
    "    answer[\"month\"] = answer[\"num_date_time\"].dt.month.astype(str).str.zfill(2)\n",
    "    answer[\"day\"] = answer[\"num_date_time\"].dt.day.astype(str).str.zfill(2)\n",
    "    answer[\"hour\"] = answer[\"num_date_time\"].dt.hour.astype(str).str.zfill(2)\n",
    "    answer[\"num_date_time\"] = f\"{i}_\" + answer[\"year\"] + answer[\"month\"] + answer[\"day\"] + ' ' + answer[\"hour\"]\n",
    "    test_submission = test_submission.append(answer)\n",
    "test_submission = test_submission[[\"num_date_time\", \"answer\"]]\n",
    "test_submission.set_index(\"num_date_time\", inplace=True)"
   ],
   "metadata": {
    "collapsed": false,
    "is_executing": true,
    "ExecuteTime": {
     "start_time": "2023-08-14T04:13:33.224822700Z"
    }
   }
  },
  {
   "cell_type": "code",
   "execution_count": null,
   "outputs": [],
   "source": [
    "m.train_holiday_names"
   ],
   "metadata": {
    "collapsed": false,
    "is_executing": true
   }
  },
  {
   "cell_type": "code",
   "execution_count": null,
   "outputs": [],
   "source": [
    "fig = m.plot(forecast)\n",
    "a = add_changepoints_to_plot(fig.gca(), m, forecast)"
   ],
   "metadata": {
    "collapsed": false,
    "is_executing": true
   }
  },
  {
   "cell_type": "code",
   "execution_count": null,
   "outputs": [],
   "source": [
    "fig = m.plot_components(forecast)"
   ],
   "metadata": {
    "collapsed": false,
    "is_executing": true
   }
  },
  {
   "cell_type": "code",
   "execution_count": 20,
   "outputs": [],
   "source": [
    "test_submission.to_csv(\"results/2023-08-15_3.csv\")"
   ],
   "metadata": {
    "collapsed": false,
    "ExecuteTime": {
     "end_time": "2023-08-14T04:10:24.979886300Z",
     "start_time": "2023-08-14T04:10:24.940652400Z"
    }
   }
  },
  {
   "cell_type": "markdown",
   "source": [
    "## 제출결과\n",
    "1. cap, floor 설정 및 logistic 분석 실시 : 11.6409051412(2023-08-13.csv)\n",
    "2. 지난 최고점인 prophet linear모델에 holidays 추가 : 11.3840875952(2023-08-14_h.csv) 점수 상승\n",
    "3. changepoint_range(과적합 방지용) = 0.95 : 11.3838344125(2023-08-14.csv) 점수 상승\n",
    "4. changepoint_range(과적합 방지용) = 1 : 11.3809335269(2023-08-15.csv) 점수 상승\n",
    "5. changepoint_prior_scale = 0.1 : 11.6773858778(2023-08-15_2.csv)\n",
    "6. changepoint_prior_scale = 0.01 : 11.4329635772(2023-08-15_3.csv)"
   ],
   "metadata": {
    "collapsed": false
   }
  },
  {
   "cell_type": "markdown",
   "source": [],
   "metadata": {
    "collapsed": false
   }
  }
 ],
 "metadata": {
  "kernelspec": {
   "display_name": "Python 3",
   "language": "python",
   "name": "python3"
  },
  "language_info": {
   "codemirror_mode": {
    "name": "ipython",
    "version": 2
   },
   "file_extension": ".py",
   "mimetype": "text/x-python",
   "name": "python",
   "nbconvert_exporter": "python",
   "pygments_lexer": "ipython2",
   "version": "2.7.6"
  }
 },
 "nbformat": 4,
 "nbformat_minor": 0
}
